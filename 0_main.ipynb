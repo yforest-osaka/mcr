{
    "cells": [
        {
            "cell_type": "markdown",
            "metadata": {},
            "source": [
                "### Generation of unoptimized circuit"
            ]
        },
        {
            "cell_type": "code",
            "execution_count": 13,
            "metadata": {},
            "outputs": [],
            "source": [
                "### Input information ###\n",
                "\n",
                "num_samples = 1\n",
                "nqubits = 3\n",
                "with_swap_option = True # If True, the MCR swap is executed (then the unoptimized circuit becomes longer)\n",
                "# Number of iterations for the unoptimized circuit\n",
                "unopt_iteration_count = nqubits ** 2"
            ]
        },
        {
            "cell_type": "markdown",
            "metadata": {},
            "source": [
                "Define the input circuit using the PauliRotationSequence class.\n",
                "\n",
                "In PauliRotationSequence, you first specify the number of qubits to be used.\n",
                "\n",
                "Next, you use the `add_gate` method to add gates. The first argument specifies the location (index) of the gate as a tuple, and the second argument specifies the rotation axis of the rotation gate. The unoptimization of the circuit will execute the added gates after sorting them in dictionary order based on the first argument's tuple.\n",
                "\n",
                "The rotation axis represents a rotation of $\\pi /4$ when you use $+$ and a rotation of $-\\pi /4$ when you use $-$.\n",
                "\n",
                "For example, if you want to input a 5-qubit circuit\n",
                "\n",
                "$$\n",
                "\\left[ R_{XYZIZ}\\left( \\pi /4 \\right), R_{ZYIZX}\\left( -\\pi /4 \\right) \\right]\n",
                "$$\n",
                "\n",
                "you would add it as follows:\n",
                "```python\n",
                "circuit = PauliRotationSequence(nqubits)\n",
                "circuit.add_gate((0,), \"+XYZIZ\")\n",
                "circuit.add_gate((1,), \"-ZYIZX\")\n",
                "```\n",
                "\n",
                "Alternatively, you can perform the same operation using `stim.PauliString`.\n",
                "\n",
                "```python\n",
                "circuit = PauliRotationSequence(nqubits)\n",
                "circuit.add_gate((0,), stim.PauliString(f\"+{initial_pauli_string}\"))\n",
                "circuit.add_gate((1,), stim.PauliString(f\"-{initial_pauli_string}\"))\n",
                "```\n",
                "\n",
                "By using the method `.get_all()`, you can retrieve all the information about the gates added to the circuit (the gates are sorted and output in the order they are applied to the quantum state)."
            ]
        },
        {
            "cell_type": "code",
            "execution_count": 14,
            "metadata": {},
            "outputs": [
                {
                    "data": {
                        "text/plain": [
                            "[((0,), stim.PauliString(\"+ZZZ\"))]"
                        ]
                    },
                    "execution_count": 14,
                    "metadata": {},
                    "output_type": "execute_result"
                }
            ],
            "source": [
                "from mcr.rotation_circuit import PauliRotationSequence\n",
                "\n",
                "# Example (4 qubit quantum circuit): [R_{ZZZZ}(+pi/4), R_{ZZZZ}(-pi/4)]\n",
                "input_seq = PauliRotationSequence(nqubits)\n",
                "initial_pauli_string = \"Z\" * nqubits\n",
                "input_seq.add_gate((0,), f\"+{initial_pauli_string}\")\n",
                "input_seq.get_all()"
            ]
        },
        {
            "cell_type": "markdown",
            "metadata": {},
            "source": [
                "Since the rotation angles are restricted to $\\pm \\pi/4$, the PauliRotationSequence can be exactly decomposed into the Clifford+T gate set.\n",
                "To obtain the circuit decomposed into Clifford+T, use the ``.set_circuit()`` method.\n",
                "This will provide the quantum circuit described in ``qulacs``.\n",
                "This quantum circuit can be visualized using ``qulacsvis``."
            ]
        },
        {
            "cell_type": "code",
            "execution_count": 15,
            "metadata": {},
            "outputs": [
                {
                    "data": {
                        "image/png": "[encoded data removed]",
                        "text/plain": [
                            "<Figure size 453.6x280.8 with 1 Axes>"
                        ]
                    },
                    "execution_count": 15,
                    "metadata": {},
                    "output_type": "execute_result"
                }
            ],
            "source": [
                "from qulacsvis import circuit_drawer as draw\n",
                "qulacs_input_circuit = input_seq.set_circuit()\n",
                "# Draw the circuit\n",
                "draw(qulacs_input_circuit, \"mpl\")"
            ]
        },
        {
            "cell_type": "markdown",
            "metadata": {},
            "source": [
                "In this example of the circuit,\n",
                "$$\n",
                "\\left[ R_{ZZZZ}\\left( \\pi /4 \\right) \\right]\n",
                "$$\n",
                "is used, so the optimal T count for this circuit is 1.\n",
                "\n",
                "Next, we will use the ``unoptimize_circuit`` function to obtain the unoptimized circuit."
            ]
        },
        {
            "cell_type": "code",
            "execution_count": 16,
            "metadata": {},
            "outputs": [],
            "source": [
                "from mcr.unoptimize import unoptimize_circuit\n",
                "# duplicate the circuit\n",
                "initial_seq = input_seq.duplicate()\n",
                "\n",
                "# Perform unoptimization\n",
                "\n",
                "unopt_seq = unoptimize_circuit(input_seq, unopt_iteration_count, with_swap_option)\n",
                "if nqubits <= 6:\n",
                "    assert unopt_seq.is_equivalent(initial_seq), \"The circuit is not equivalent to the original one.\""
            ]
        },
        {
            "cell_type": "code",
            "execution_count": 17,
            "metadata": {},
            "outputs": [],
            "source": [
                "# Save input and output circuits by QASM format\n",
                "input_circuit_filepath = \"circuit_data/input_circuit.qasm\"\n",
                "unopted_circuit_filepath = \"circuit_data/unopted_circuit.qasm\"\n",
                "\n",
                "initial_seq.save_qasm(input_circuit_filepath)\n",
                "unopt_seq.save_qasm(unopted_circuit_filepath)"
            ]
        },
        {
            "cell_type": "markdown",
            "metadata": {},
            "source": [
                "### Compiler evaluation"
            ]
        },
        {
            "cell_type": "code",
            "execution_count": 18,
            "metadata": {},
            "outputs": [
                {
                    "name": "stderr",
                    "output_type": "stream",
                    "text": [
                        "                                      \r"
                    ]
                }
            ],
            "source": [
                "from mcr.optimize import tket_optimization, pyzx_optimization, tmerge_optimization, fasttodd_optimization\n",
                "# Pytket optimization\n",
                "df_tket = tket_optimization(input_circuit_filepath, unopted_circuit_filepath)\n",
                "\n",
                "# PyZX optimization\n",
                "df_pyzx = pyzx_optimization(input_circuit_filepath, unopted_circuit_filepath)\n",
                "\n",
                "# TMerge optimization (Note that arguments are PauliRotationSequence)\n",
                "df_tmerge = tmerge_optimization(nqubits=nqubits,\n",
                "                    input_seq=initial_seq,\n",
                "                    unopted_seq=unopt_seq)"
            ]
        },
        {
            "cell_type": "code",
            "execution_count": 19,
            "metadata": {},
            "outputs": [],
            "source": [
                "# FastTODD optimization (long execution time)\n",
                "df_fasttodd = fasttodd_optimization(unopted_circuit_filepath)"
            ]
        },
        {
            "cell_type": "markdown",
            "metadata": {},
            "source": [
                "### Show results"
            ]
        },
        {
            "cell_type": "code",
            "execution_count": 20,
            "metadata": {},
            "outputs": [
                {
                    "data": {
                        "text/html": [
                            "<div>\n",
                            "<style scoped>\n",
                            "    .dataframe tbody tr th:only-of-type {\n",
                            "        vertical-align: middle;\n",
                            "    }\n",
                            "\n",
                            "    .dataframe tbody tr th {\n",
                            "        vertical-align: top;\n",
                            "    }\n",
                            "\n",
                            "    .dataframe thead th {\n",
                            "        text-align: right;\n",
                            "    }\n",
                            "</style>\n",
                            "<table border=\"1\" class=\"dataframe\">\n",
                            "  <thead>\n",
                            "    <tr style=\"text-align: right;\">\n",
                            "      <th></th>\n",
                            "      <th>input_circuit</th>\n",
                            "      <th>unopted_circuit</th>\n",
                            "    </tr>\n",
                            "  </thead>\n",
                            "  <tbody>\n",
                            "    <tr>\n",
                            "      <th>before_opt</th>\n",
                            "      <td>1</td>\n",
                            "      <td>107</td>\n",
                            "    </tr>\n",
                            "    <tr>\n",
                            "      <th>after_opt</th>\n",
                            "      <td>1</td>\n",
                            "      <td>99</td>\n",
                            "    </tr>\n",
                            "  </tbody>\n",
                            "</table>\n",
                            "</div>"
                        ],
                        "text/plain": [
                            "            input_circuit  unopted_circuit\n",
                            "before_opt              1              107\n",
                            "after_opt               1               99"
                        ]
                    },
                    "execution_count": 20,
                    "metadata": {},
                    "output_type": "execute_result"
                }
            ],
            "source": [
                "df_tket"
            ]
        },
        {
            "cell_type": "code",
            "execution_count": 21,
            "metadata": {},
            "outputs": [
                {
                    "data": {
                        "text/html": [
                            "<div>\n",
                            "<style scoped>\n",
                            "    .dataframe tbody tr th:only-of-type {\n",
                            "        vertical-align: middle;\n",
                            "    }\n",
                            "\n",
                            "    .dataframe tbody tr th {\n",
                            "        vertical-align: top;\n",
                            "    }\n",
                            "\n",
                            "    .dataframe thead th {\n",
                            "        text-align: right;\n",
                            "    }\n",
                            "</style>\n",
                            "<table border=\"1\" class=\"dataframe\">\n",
                            "  <thead>\n",
                            "    <tr style=\"text-align: right;\">\n",
                            "      <th></th>\n",
                            "      <th>input_circuit</th>\n",
                            "      <th>unopted_circuit</th>\n",
                            "    </tr>\n",
                            "  </thead>\n",
                            "  <tbody>\n",
                            "    <tr>\n",
                            "      <th>before_opt</th>\n",
                            "      <td>1</td>\n",
                            "      <td>107</td>\n",
                            "    </tr>\n",
                            "    <tr>\n",
                            "      <th>after_opt</th>\n",
                            "      <td>1</td>\n",
                            "      <td>77</td>\n",
                            "    </tr>\n",
                            "  </tbody>\n",
                            "</table>\n",
                            "</div>"
                        ],
                        "text/plain": [
                            "            input_circuit  unopted_circuit\n",
                            "before_opt              1              107\n",
                            "after_opt               1               77"
                        ]
                    },
                    "execution_count": 21,
                    "metadata": {},
                    "output_type": "execute_result"
                }
            ],
            "source": [
                "df_pyzx"
            ]
        },
        {
            "cell_type": "code",
            "execution_count": 22,
            "metadata": {},
            "outputs": [
                {
                    "data": {
                        "text/html": [
                            "<div>\n",
                            "<style scoped>\n",
                            "    .dataframe tbody tr th:only-of-type {\n",
                            "        vertical-align: middle;\n",
                            "    }\n",
                            "\n",
                            "    .dataframe tbody tr th {\n",
                            "        vertical-align: top;\n",
                            "    }\n",
                            "\n",
                            "    .dataframe thead th {\n",
                            "        text-align: right;\n",
                            "    }\n",
                            "</style>\n",
                            "<table border=\"1\" class=\"dataframe\">\n",
                            "  <thead>\n",
                            "    <tr style=\"text-align: right;\">\n",
                            "      <th></th>\n",
                            "      <th>input_circuit</th>\n",
                            "      <th>unopted_circuit</th>\n",
                            "    </tr>\n",
                            "  </thead>\n",
                            "  <tbody>\n",
                            "    <tr>\n",
                            "      <th>before_opt</th>\n",
                            "      <td>1</td>\n",
                            "      <td>107</td>\n",
                            "    </tr>\n",
                            "    <tr>\n",
                            "      <th>after_opt</th>\n",
                            "      <td>1</td>\n",
                            "      <td>77</td>\n",
                            "    </tr>\n",
                            "  </tbody>\n",
                            "</table>\n",
                            "</div>"
                        ],
                        "text/plain": [
                            "            input_circuit  unopted_circuit\n",
                            "before_opt              1              107\n",
                            "after_opt               1               77"
                        ]
                    },
                    "execution_count": 22,
                    "metadata": {},
                    "output_type": "execute_result"
                }
            ],
            "source": [
                "df_tmerge"
            ]
        },
        {
            "cell_type": "code",
            "execution_count": 23,
            "metadata": {},
            "outputs": [
                {
                    "data": {
                        "text/html": [
                            "<div>\n",
                            "<style scoped>\n",
                            "    .dataframe tbody tr th:only-of-type {\n",
                            "        vertical-align: middle;\n",
                            "    }\n",
                            "\n",
                            "    .dataframe tbody tr th {\n",
                            "        vertical-align: top;\n",
                            "    }\n",
                            "\n",
                            "    .dataframe thead th {\n",
                            "        text-align: right;\n",
                            "    }\n",
                            "</style>\n",
                            "<table border=\"1\" class=\"dataframe\">\n",
                            "  <thead>\n",
                            "    <tr style=\"text-align: right;\">\n",
                            "      <th></th>\n",
                            "      <th>added_ancilla</th>\n",
                            "      <th>after_opt_T_count</th>\n",
                            "    </tr>\n",
                            "  </thead>\n",
                            "  <tbody>\n",
                            "    <tr>\n",
                            "      <th>0</th>\n",
                            "      <td>50</td>\n",
                            "      <td>77</td>\n",
                            "    </tr>\n",
                            "  </tbody>\n",
                            "</table>\n",
                            "</div>"
                        ],
                        "text/plain": [
                            "   added_ancilla  after_opt_T_count\n",
                            "0             50                 77"
                        ]
                    },
                    "execution_count": 23,
                    "metadata": {},
                    "output_type": "execute_result"
                }
            ],
            "source": [
                "df_fasttodd"
            ]
        },
        {
            "cell_type": "code",
            "execution_count": null,
            "metadata": {},
            "outputs": [],
            "source": []
        }
    ],
    "metadata": {
        "kernelspec": {
            "display_name": ".venv",
            "language": "python",
            "name": "python3"
        },
        "language_info": {
            "codemirror_mode": {
                "name": "ipython",
                "version": 3
            },
            "file_extension": ".py",
            "mimetype": "text/x-python",
            "name": "python",
            "nbconvert_exporter": "python",
            "pygments_lexer": "ipython3",
            "version": "3.11.0"
        }
    },
    "nbformat": 4,
    "nbformat_minor": 2
}
