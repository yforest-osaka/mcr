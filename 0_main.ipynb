{
 "cells": [
  {
   "cell_type": "markdown",
   "metadata": {},
   "source": [
    "### Generation of unoptimized circuit"
   ]
  },
  {
   "cell_type": "code",
   "execution_count": 1,
   "metadata": {},
   "outputs": [],
   "source": [
    "### Input information ###\n",
    "num_samples = 1\n",
    "nqubits = 5\n",
    "with_swap_option = False # If True, the MCR swap is executed\n",
    "# Number of iterations for the unoptimized circuit\n",
    "unopt_iteration_count = nqubits ** 2"
   ]
  },
  {
   "cell_type": "code",
   "execution_count": 2,
   "metadata": {},
   "outputs": [],
   "source": [
    "from mcr.rotation_circuit import RotationCircuit, rot_unoptimization\n",
    "from mcr.circuit_ops import equivalence_check_via_mqt_qcec\n",
    "import stim\n",
    "\n",
    "circuit = RotationCircuit(nqubits)\n",
    "initial_pauli_string = \"Z\" * nqubits\n",
    "circuit.add_gate((0,), stim.PauliString(f\"+{initial_pauli_string}\"))\n",
    "# circuit.add_gate((1,), stim.PauliString(f\"-{initial_pauli_string}\"))\n",
    "circuit_initial = circuit.duplicate()\n",
    "\n",
    "# Perform unoptimization\n",
    "unopt_circuit = rot_unoptimization(circuit, unopt_iteration_count, with_swap_option)\n",
    "u = circuit_initial.set_circuit()\n",
    "v = unopt_circuit.set_circuit()\n",
    "circuit_u_rots = circuit_initial.to_rot_ops()\n",
    "circuit_v_rots = unopt_circuit.to_rot_ops()\n",
    "if nqubits <= 6:\n",
    "    assert unopt_circuit.is_equivalent(circuit_initial), \"The circuit is not equivalent to the original one.\""
   ]
  },
  {
   "cell_type": "code",
   "execution_count": null,
   "metadata": {},
   "outputs": [],
   "source": []
  },
  {
   "cell_type": "markdown",
   "metadata": {},
   "source": [
    "### Compiler evaluation"
   ]
  },
  {
   "cell_type": "code",
   "execution_count": null,
   "metadata": {},
   "outputs": [],
   "source": []
  },
  {
   "cell_type": "code",
   "execution_count": null,
   "metadata": {},
   "outputs": [],
   "source": []
  },
  {
   "cell_type": "code",
   "execution_count": null,
   "metadata": {},
   "outputs": [],
   "source": []
  },
  {
   "cell_type": "code",
   "execution_count": null,
   "metadata": {},
   "outputs": [],
   "source": []
  },
  {
   "cell_type": "markdown",
   "metadata": {},
   "source": [
    "### Data analysis"
   ]
  },
  {
   "cell_type": "code",
   "execution_count": null,
   "metadata": {},
   "outputs": [],
   "source": []
  },
  {
   "cell_type": "code",
   "execution_count": null,
   "metadata": {},
   "outputs": [],
   "source": []
  }
 ],
 "metadata": {
  "kernelspec": {
   "display_name": ".venv",
   "language": "python",
   "name": "python3"
  },
  "language_info": {
   "codemirror_mode": {
    "name": "ipython",
    "version": 3
   },
   "file_extension": ".py",
   "mimetype": "text/x-python",
   "name": "python",
   "nbconvert_exporter": "python",
   "pygments_lexer": "ipython3",
   "version": "3.11.0"
  }
 },
 "nbformat": 4,
 "nbformat_minor": 2
}
