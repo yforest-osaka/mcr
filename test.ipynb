{
 "cells": [
  {
   "cell_type": "code",
   "execution_count": 1,
   "id": "90e1d142",
   "metadata": {},
   "outputs": [],
   "source": [
    "from qulacsvis import circuit_drawer as draw\n",
    "from qulacs import QuantumCircuit, QuantumState\n",
    "from qulacs.gate import H, CNOT, Measurement"
   ]
  },
  {
   "cell_type": "code",
   "execution_count": 26,
   "id": "a0fb3bc8",
   "metadata": {},
   "outputs": [
    {
     "data": {
      "text/plain": [
       "1"
      ]
     },
     "execution_count": 26,
     "metadata": {},
     "output_type": "execute_result"
    }
   ],
   "source": [
    "nqubits = 2\n",
    "circuit = QuantumCircuit(nqubits)\n",
    "circuit.add_gate(H(0))\n",
    "circuit.add_gate(CNOT(0, 1))\n",
    "circuit.add_gate(Measurement(0, 0))\n",
    "state = QuantumState(nqubits)\n",
    "circuit.update_quantum_state(state)\n",
    "state.get_classical_value(0)"
   ]
  },
  {
   "cell_type": "code",
   "execution_count": null,
   "id": "c08efb28",
   "metadata": {},
   "outputs": [
    {
     "data": {
      "text/plain": [
       "0"
      ]
     },
     "execution_count": 12,
     "metadata": {},
     "output_type": "execute_result"
    }
   ],
   "source": []
  },
  {
   "cell_type": "code",
   "execution_count": null,
   "id": "13736ed9",
   "metadata": {},
   "outputs": [],
   "source": []
  }
 ],
 "metadata": {
  "kernelspec": {
   "display_name": ".venv",
   "language": "python",
   "name": "python3"
  },
  "language_info": {
   "codemirror_mode": {
    "name": "ipython",
    "version": 3
   },
   "file_extension": ".py",
   "mimetype": "text/x-python",
   "name": "python",
   "nbconvert_exporter": "python",
   "pygments_lexer": "ipython3",
   "version": "3.11.12"
  }
 },
 "nbformat": 4,
 "nbformat_minor": 5
}
