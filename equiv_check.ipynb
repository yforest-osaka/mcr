{
 "cells": [
  {
   "cell_type": "code",
   "execution_count": 17,
   "id": "6b7fb6ee",
   "metadata": {},
   "outputs": [],
   "source": [
    "from mcr.equiv_check import equivalence_check_via_mqt_qcec"
   ]
  },
  {
   "cell_type": "code",
   "execution_count": 18,
   "id": "4b006583",
   "metadata": {},
   "outputs": [],
   "source": [
    "from mcr.rotation_circuit import PauliRotationSequence\n",
    "import stim"
   ]
  },
  {
   "cell_type": "code",
   "execution_count": 19,
   "id": "fa137d0c",
   "metadata": {},
   "outputs": [],
   "source": [
    "from qulacs.converter import convert_QASM_to_qulacs_circuit\n",
    "filename = 'barenco_tof_5'\n",
    "\n",
    "with open(f\"external_data/qasm/{filename}.qasm\", \"r\") as f:\n",
    "    qasm = f.readlines()\n",
    "original_circuit = convert_QASM_to_qulacs_circuit(qasm)\n",
    "\n",
    "with open(f\"external_data/rotops/{filename}.txt\", \"r\") as f:\n",
    "# with open(\n",
    "#     f\"/Users/yusei/Desktop/workspace/MyStudy/clifford_conjugation/rust_data/barenco_tof_5.txt\", \"r\") as f:\n",
    "    qasm = f.read()\n",
    "\n",
    "rot = PauliRotationSequence(9)\n",
    "for i, elem in enumerate(qasm.splitlines()):\n",
    "    rot.add_gate((i,),stim.PauliString(elem))\n",
    "t_layer = rot.set_circuit()\n",
    "\n",
    "with open(f\"external_data/only_clifford/{filename}.qasm\", \"r\") as f:\n",
    "    qasm = f.readlines()\n",
    "only_clifford = convert_QASM_to_qulacs_circuit(qasm)"
   ]
  },
  {
   "cell_type": "code",
   "execution_count": 20,
   "id": "cfa1e9fd",
   "metadata": {},
   "outputs": [],
   "source": [
    "circuit = only_clifford.copy()\n",
    "circuit.merge_circuit(t_layer)"
   ]
  },
  {
   "cell_type": "code",
   "execution_count": 21,
   "id": "59fc7177",
   "metadata": {},
   "outputs": [
    {
     "name": "stdout",
     "output_type": "stream",
     "text": [
      "equivalent\n"
     ]
    },
    {
     "data": {
      "text/plain": [
       "True"
      ]
     },
     "execution_count": 21,
     "metadata": {},
     "output_type": "execute_result"
    }
   ],
   "source": [
    "equivalence_check_via_mqt_qcec(original_circuit, circuit, exclude_zx_checker=True)"
   ]
  },
  {
   "cell_type": "code",
   "execution_count": null,
   "id": "af261b5e",
   "metadata": {},
   "outputs": [],
   "source": []
  }
 ],
 "metadata": {
  "kernelspec": {
   "display_name": ".venv",
   "language": "python",
   "name": "python3"
  },
  "language_info": {
   "codemirror_mode": {
    "name": "ipython",
    "version": 3
   },
   "file_extension": ".py",
   "mimetype": "text/x-python",
   "name": "python",
   "nbconvert_exporter": "python",
   "pygments_lexer": "ipython3",
   "version": "3.11.12"
  }
 },
 "nbformat": 4,
 "nbformat_minor": 5
}
