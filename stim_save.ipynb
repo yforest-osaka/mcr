{
 "cells": [
  {
   "cell_type": "code",
   "execution_count": 1,
   "id": "d7d86bd6",
   "metadata": {},
   "outputs": [],
   "source": [
    "import stim"
   ]
  },
  {
   "cell_type": "code",
   "execution_count": 5,
   "id": "46eede6d",
   "metadata": {},
   "outputs": [
    {
     "name": "stdout",
     "output_type": "stream",
     "text": [
      "+XYZ\n"
     ]
    }
   ],
   "source": [
    "pauli = stim.PauliString(\"+XYZ\")\n",
    "print(pauli)"
   ]
  },
  {
   "cell_type": "code",
   "execution_count": null,
   "id": "662b50d7",
   "metadata": {},
   "outputs": [
    {
     "data": {
      "text/plain": [
       "stim.PauliString(\"+XYZ\")"
      ]
     },
     "execution_count": 6,
     "metadata": {},
     "output_type": "execute_result"
    }
   ],
   "source": []
  },
  {
   "cell_type": "code",
   "execution_count": 11,
   "id": "bf56b121",
   "metadata": {},
   "outputs": [],
   "source": [
    "# PauliStringのリスト\n",
    "pauli_list = [stim.PauliString(\"X_Z\"), stim.PauliString(\"Y__\"), stim.PauliString(\"__Z\")]\n",
    "\n",
    "# 保存\n",
    "with open(\"pauli_strings.txt\", \"w\") as f:\n",
    "    for p in pauli_list:\n",
    "        f.write(str(p) + \"\\n\")"
   ]
  },
  {
   "cell_type": "code",
   "execution_count": 12,
   "id": "2ff95771",
   "metadata": {},
   "outputs": [],
   "source": [
    "# 読み込み\n",
    "with open(\"pauli_strings.txt\", \"r\") as f:\n",
    "    loaded_list = [stim.PauliString(line.strip()) for line in f]"
   ]
  },
  {
   "cell_type": "code",
   "execution_count": 13,
   "id": "ffbaf17c",
   "metadata": {},
   "outputs": [
    {
     "data": {
      "text/plain": [
       "[stim.PauliString(\"+X_Z\"), stim.PauliString(\"+Y__\"), stim.PauliString(\"+__Z\")]"
      ]
     },
     "execution_count": 13,
     "metadata": {},
     "output_type": "execute_result"
    }
   ],
   "source": [
    "loaded_list"
   ]
  },
  {
   "cell_type": "code",
   "execution_count": 3,
   "id": "2cb8efd7",
   "metadata": {},
   "outputs": [],
   "source": [
    "import stim\n",
    "c = stim.Circuit()\n",
    "c.append('X',[0])\n"
   ]
  },
  {
   "cell_type": "code",
   "execution_count": 5,
   "id": "f92aa168",
   "metadata": {},
   "outputs": [],
   "source": [
    "c.append('CNOT',[0,1])"
   ]
  },
  {
   "cell_type": "code",
   "execution_count": 6,
   "id": "1ddd98d1",
   "metadata": {},
   "outputs": [
    {
     "data": {
      "text/plain": [
       "stim.Circuit('''\n",
       "    X 0\n",
       "    CX 0 1\n",
       "''')"
      ]
     },
     "execution_count": 6,
     "metadata": {},
     "output_type": "execute_result"
    }
   ],
   "source": [
    "c"
   ]
  },
  {
   "cell_type": "code",
   "execution_count": 9,
   "id": "0d9c564f",
   "metadata": {},
   "outputs": [
    {
     "name": "stdout",
     "output_type": "stream",
     "text": [
      "OPENQASM 2.0;\n",
      "include \"qelib1.inc\";\n",
      "\n",
      "qreg q[2];\n",
      "\n",
      "x q[0];\n",
      "cx q[0], q[1];\n",
      "\n"
     ]
    }
   ],
   "source": [
    "print(c.to_qasm(open_qasm_version=2))"
   ]
  },
  {
   "cell_type": "code",
   "execution_count": null,
   "id": "fd519c5d",
   "metadata": {},
   "outputs": [],
   "source": []
  }
 ],
 "metadata": {
  "kernelspec": {
   "display_name": ".venv",
   "language": "python",
   "name": "python3"
  },
  "language_info": {
   "codemirror_mode": {
    "name": "ipython",
    "version": 3
   },
   "file_extension": ".py",
   "mimetype": "text/x-python",
   "name": "python",
   "nbconvert_exporter": "python",
   "pygments_lexer": "ipython3",
   "version": "3.11.0"
  }
 },
 "nbformat": 4,
 "nbformat_minor": 5
}
