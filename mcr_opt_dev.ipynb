{
 "cells": [
  {
   "cell_type": "code",
   "execution_count": 6,
   "id": "c65aca26",
   "metadata": {},
   "outputs": [],
   "source": [
    "\n",
    "from itertools import permutations\n",
    "from joblib import Parallel, delayed\n",
    "from more_itertools import distinct_permutations\n",
    "from tqdm import tqdm\n",
    "import numpy as np\n",
    "import pickle\n",
    "\n",
    "from qulacs import QuantumCircuit\n",
    "\n",
    "from mcr.equiv_check import (\n",
    "    equiv,\n",
    "    pauli_bit_equivalence_check,\n",
    "    equivalence_check_via_mqt_qcec,\n",
    ")\n",
    "\n",
    "from mcr.gate_apply import (\n",
    "    PauliBit,\n",
    "    grouping,\n",
    "    loop_optimization,\n",
    "    set_clifford_to_qulacs,\n",
    "    zhang_optimization,\n",
    ")\n",
    "\n",
    "from opt_using_mcr import test_algorithm\n",
    "from perform_mcr import (\n",
    "    optimize_data_loop,\n",
    "    attempt_mcr_retry,\n",
    "    mcr_swap,\n",
    "    three_layer_nontrivial_swap,\n",
    ")\n",
    "from optimizer import full_optimization"
   ]
  },
  {
   "cell_type": "code",
   "execution_count": 7,
   "id": "53c8a38c",
   "metadata": {},
   "outputs": [],
   "source": [
    "filetype = \"seq\"  # \"small\" or \"seq\"\n",
    "nqubits = 2  # Number of qubits in the circuit\n",
    "# with open(f\"unopt_{filetype}.pickle\", \"rb\") as f:\n",
    "with open(f\"unopt_{nqubits}.pickle\", \"rb\") as f:\n",
    "    seq = pickle.load(f)\n",
    "data = []\n",
    "for elem in seq:\n",
    "    sgn = str(elem[1])[0]\n",
    "    pauli_str = str(elem[1])[1:]\n",
    "    if sgn == \"+\":\n",
    "        data.append(PauliBit(pauli_str, np.pi/4))\n",
    "    else:\n",
    "        assert sgn == \"-\", f\"Unexpected sign: {sgn}\"\n",
    "        data.append(PauliBit(pauli_str, -np.pi/4))\n",
    "data.append(PauliBit(\"Z\" * nqubits, -np.pi / 4))  # Add identity gate"
   ]
  },
  {
   "cell_type": "code",
   "execution_count": 8,
   "id": "526408ee",
   "metadata": {},
   "outputs": [],
   "source": [
    "def load_data_from_pickle(filepath: str, nqubits: int) -> list:\n",
    "    \"\"\"pickle形式のファイルを読み込む\n",
    "\n",
    "    Args:\n",
    "        filepath (str): pickle形式のファイルパス\n",
    "\n",
    "    Returns:\n",
    "        list: 読み込んだデータのリスト\n",
    "    \"\"\"\n",
    "    with open(filepath, mode=\"br\") as f:\n",
    "        data = pickle.load(f)\n",
    "    pauli_bit_sequences = []\n",
    "    for elem in data:\n",
    "        initial_pauli_str, theta, qubit_indices = elem\n",
    "        pauli_str = [\"I\"] * nqubits\n",
    "        for pauli, qubit_idx in zip(initial_pauli_str, qubit_indices):\n",
    "            pauli_str[qubit_idx] = pauli\n",
    "        pauli_bit = PauliBit(\"\".join(pauli_str), theta)\n",
    "        pauli_bit_sequences.append(pauli_bit)\n",
    "    return pauli_bit_sequences\n",
    "nqubits = 6\n",
    "# data = load_data_from_pickle(\"te_pai_data.pickle\", nqubits=nqubits)"
   ]
  },
  {
   "cell_type": "code",
   "execution_count": 9,
   "id": "0d5c86f7",
   "metadata": {},
   "outputs": [
    {
     "name": "stdout",
     "output_type": "stream",
     "text": [
      "🎉 Optimization success in iteration 1: 36 → 16\n",
      "🔍 No optimization in iteration 2: 16 → 16\n",
      "🔁 Additional optimization: 1 / 10\n",
      "🎉 Optimization success in iteration 1: 23 → 14\n",
      "🔍 No optimization in iteration 2: 14 → 14\n",
      "🔁 Additional optimization: 2 / 10\n",
      "🎉 Optimization success in iteration 1: 20 → 14\n",
      "🔍 No optimization in iteration 2: 14 → 14\n",
      "🔁 Additional optimization: 3 / 10\n",
      "🎉 Optimization success in iteration 1: 20 → 14\n",
      "🔍 No optimization in iteration 2: 14 → 14\n",
      "🔁 Additional optimization: 4 / 10\n",
      "🎉 Optimization success in iteration 1: 20 → 14\n",
      "🔍 No optimization in iteration 2: 14 → 14\n",
      "🔁 Additional optimization: 5 / 10\n",
      "🎉 Optimization success in iteration 1: 20 → 14\n",
      "🔍 No optimization in iteration 2: 14 → 14\n",
      "🔁 Additional optimization: 6 / 10\n",
      "🎉 Optimization success in iteration 1: 20 → 14\n",
      "🔍 No optimization in iteration 2: 14 → 14\n",
      "🔁 Additional optimization: 7 / 10\n",
      "🎉 Optimization success in iteration 1: 20 → 14\n",
      "🔍 No optimization in iteration 2: 14 → 14\n",
      "🔁 Additional optimization: 8 / 10\n",
      "🎉 Optimization success in iteration 1: 20 → 14\n",
      "🔍 No optimization in iteration 2: 14 → 14\n",
      "🔁 Additional optimization: 9 / 10\n",
      "🎉 Optimization success in iteration 1: 20 → 14\n",
      "🔍 No optimization in iteration 2: 14 → 14\n",
      "🔁 Additional optimization: 10 / 10\n",
      "🎉 Optimization success in iteration 1: 20 → 14\n",
      "🔍 No optimization in iteration 2: 14 → 14\n"
     ]
    }
   ],
   "source": [
    "clifford, non_clifford = full_optimization(data, max_iter = 10, show_opt_log=True)"
   ]
  },
  {
   "cell_type": "code",
   "execution_count": 10,
   "id": "3ac8d0fc",
   "metadata": {},
   "outputs": [
    {
     "data": {
      "text/plain": [
       "[YZ, 0.785,\n",
       " YX, -0.785,\n",
       " ZZ, -0.785,\n",
       " YZ, 0.785,\n",
       " YX, -0.785,\n",
       " ZZ, -0.785,\n",
       " YZ, -0.785,\n",
       " ZX, 0.785,\n",
       " IY, -0.785,\n",
       " XI, 0.785,\n",
       " YX, -0.785,\n",
       " IY, -0.785,\n",
       " XI, -0.785,\n",
       " ZZ, -0.785]"
      ]
     },
     "execution_count": 10,
     "metadata": {},
     "output_type": "execute_result"
    }
   ],
   "source": [
    "non_clifford"
   ]
  },
  {
   "cell_type": "code",
   "execution_count": 11,
   "id": "1607253e",
   "metadata": {},
   "outputs": [
    {
     "data": {
      "text/plain": [
       "[[YZ, 0.785],\n",
       " [YX, -0.785, ZZ, -0.785],\n",
       " [YZ, 0.785],\n",
       " [YX, -0.785, ZZ, -0.785],\n",
       " [YZ, -0.785, ZX, 0.785],\n",
       " [IY, -0.785, XI, 0.785],\n",
       " [YX, -0.785],\n",
       " [IY, -0.785, XI, -0.785],\n",
       " [ZZ, -0.785]]"
      ]
     },
     "execution_count": 11,
     "metadata": {},
     "output_type": "execute_result"
    }
   ],
   "source": [
    "grouping(non_clifford)"
   ]
  },
  {
   "cell_type": "code",
   "execution_count": null,
   "id": "a52bfa9a",
   "metadata": {},
   "outputs": [],
   "source": []
  },
  {
   "cell_type": "code",
   "execution_count": null,
   "id": "6e4a8d59",
   "metadata": {},
   "outputs": [],
   "source": []
  },
  {
   "cell_type": "code",
   "execution_count": 5,
   "id": "b47c2943",
   "metadata": {},
   "outputs": [
    {
     "data": {
      "text/plain": [
       "False"
      ]
     },
     "execution_count": 5,
     "metadata": {},
     "output_type": "execute_result"
    }
   ],
   "source": [
    "# itertools.permutations で全列挙は計算量が膨大なので、numpy配列でインデックスの順列を生成し、必要な部分だけ計算することで高速化します。\n",
    "seq_a = [\n",
    "    PauliBit(\"ix\", -np.pi / 4),\n",
    "    PauliBit(\"zi\", -np.pi / 4),\n",
    "    PauliBit(\"xy\", np.pi / 4),\n",
    "    PauliBit(\"zy\", -np.pi / 4),\n",
    "    PauliBit(\"yy\", -np.pi / 4),\n",
    "    PauliBit(\"zz\", -np.pi / 4),\n",
    "    PauliBit(\"ix\", np.pi / 4),\n",
    "    PauliBit(\"xi\", np.pi / 4),\n",
    "    PauliBit(\"yz\", -np.pi / 4),\n",
    "    PauliBit(\"xz\", -np.pi / 4),\n",
    "    PauliBit(\"zz\", -np.pi / 4),\n",
    "]\n",
    "seq_b = [PauliBit(\"yx\", -np.pi / 4)]\n",
    "equiv([[], seq_a], [[],seq_b])"
   ]
  },
  {
   "cell_type": "code",
   "execution_count": 6,
   "id": "b6d4841c",
   "metadata": {},
   "outputs": [],
   "source": [
    "A = [\n",
    "    PauliBit(\"IZ\", -np.pi / 4),\n",
    "    PauliBit(\"ZY\", np.pi / 4),\n",
    "    PauliBit(\"XY\", -np.pi / 4),\n",
    "    PauliBit(\"IZ\", -np.pi / 4),\n",
    "    PauliBit(\"XZ\", -np.pi / 4),\n",
    "    PauliBit(\"IY\", -np.pi / 4),\n",
    "    PauliBit(\"YZ\", np.pi / 4),\n",
    "    PauliBit(\"IX\", -np.pi / 4),\n",
    "    PauliBit(\"ZI\", np.pi / 4),\n",
    "    PauliBit(\"YY\", -np.pi / 4),\n",
    "    PauliBit(\"XI\", -np.pi / 4),\n",
    "    PauliBit(\"ZI\", -np.pi / 4),\n",
    "    PauliBit(\"ZZ\", np.pi / 4),\n",
    "    PauliBit(\"XI\", np.pi / 4),\n",
    "    PauliBit(\"ZX\", np.pi / 4),\n",
    "    PauliBit(\"XX\", np.pi / 4),\n",
    "]"
   ]
  },
  {
   "cell_type": "code",
   "execution_count": 7,
   "id": "ba506a64",
   "metadata": {},
   "outputs": [
    {
     "data": {
      "text/plain": [
       "[[IZ, -0.785],\n",
       " [ZY, 0.785],\n",
       " [XY, -0.785],\n",
       " [IZ, -0.785, XZ, -0.785],\n",
       " [IY, -0.785],\n",
       " [YZ, 0.785],\n",
       " [IX, -0.785, ZI, 0.785],\n",
       " [YY, -0.785],\n",
       " [XI, -0.785, XZ, 0.785, XZ, -0.785],\n",
       " [ZI, -0.785, ZZ, 0.785],\n",
       " [XI, 0.785],\n",
       " [ZX, 0.785],\n",
       " [XX, 0.785]]"
      ]
     },
     "execution_count": 7,
     "metadata": {},
     "output_type": "execute_result"
    }
   ],
   "source": [
    "m = grouping(A)\n",
    "# m[8] += [PauliBit(\"XZ\", -np.pi / 4)]\n",
    "# m.insert(8, [PauliBit(\"XZ\", np.pi / 4)])\n",
    "m[8] += [PauliBit(\"XZ\", np.pi / 4), PauliBit(\"XZ\", -np.pi / 4)]\n",
    "# m.insert(8, [PauliBit(\"XZ\", -np.pi / 4)])\n",
    "m"
   ]
  },
  {
   "cell_type": "code",
   "execution_count": 8,
   "id": "31adc16e",
   "metadata": {},
   "outputs": [
    {
     "name": "stdout",
     "output_type": "stream",
     "text": [
      "Swapping [XI, -0.785, XZ, 0.785, XZ, -0.785] and [ZI, -0.785, ZZ, 0.785] at index 8\n",
      "Swapping [XY, -0.785, YZ, 0.785] and [IX, -0.785, ZI, 0.785] at index 3\n",
      "Swapping [XY, -0.785, YZ, 0.785] and [XZ, -0.785, YY, -0.785] at index 4\n",
      "🎉 Optimization success in iteration 1: 16 → 8\n"
     ]
    }
   ],
   "source": [
    "# ini = m.copy()\n",
    "seq = mcr_swap(m)\n",
    "clifford_lst, optimized_data = optimize_data_loop(\n",
    "    seq, show_opt_log=True, max_attempts=3\n",
    ")\n"
   ]
  },
  {
   "cell_type": "code",
   "execution_count": 9,
   "id": "59cb2310",
   "metadata": {},
   "outputs": [
    {
     "name": "stdout",
     "output_type": "stream",
     "text": [
      "Swapping [XY, -0.785, YZ, 0.785] and [IX, -0.785, ZI, 0.785] at index 3\n",
      "Swapping [XY, -0.785, YZ, 0.785] and [XZ, -0.785, YY, -0.785] at index 4\n",
      "🎉 Optimization success in iteration 1: 16 → 8\n"
     ]
    }
   ],
   "source": [
    "clifford_lst, optimized_data = optimize_data_loop(\n",
    "    seq, show_opt_log=True, max_attempts=3\n",
    ")\n"
   ]
  },
  {
   "cell_type": "code",
   "execution_count": 10,
   "id": "570a8cac",
   "metadata": {},
   "outputs": [
    {
     "data": {
      "text/plain": [
       "[]"
      ]
     },
     "execution_count": 10,
     "metadata": {},
     "output_type": "execute_result"
    }
   ],
   "source": [
    "optimized_data"
   ]
  },
  {
   "cell_type": "code",
   "execution_count": 11,
   "id": "afc30e1c",
   "metadata": {},
   "outputs": [
    {
     "data": {
      "text/plain": [
       "([IZ, -0.785,\n",
       "  ZY, 0.785,\n",
       "  IY, -0.785,\n",
       "  IZ, -0.785,\n",
       "  XZ, -0.785,\n",
       "  XY, -0.785,\n",
       "  YZ, 0.785,\n",
       "  IX, -0.785,\n",
       "  ZI, 0.785,\n",
       "  YY, -0.785,\n",
       "  XI, -0.785,\n",
       "  ZI, -0.785,\n",
       "  ZZ, 0.785,\n",
       "  XI, 0.785,\n",
       "  ZX, 0.785,\n",
       "  XX, 0.785],\n",
       " {2})"
      ]
     },
     "execution_count": 11,
     "metadata": {},
     "output_type": "execute_result"
    }
   ],
   "source": [
    "three_layer_nontrivial_swap(grouping(A),with_mcr_index=True)"
   ]
  },
  {
   "cell_type": "code",
   "execution_count": 12,
   "id": "d4005ac0",
   "metadata": {},
   "outputs": [
    {
     "name": "stdout",
     "output_type": "stream",
     "text": [
      "🔍 No optimization in 1th iteration. 16 → 16\n",
      "Swapping [XY, -0.785, YZ, 0.785] and [IX, -0.785, ZI, 0.785] at index 3\n",
      "🔍 No optimization in 1th iteration. 16 → 16\n"
     ]
    },
    {
     "data": {
      "text/plain": [
       "[[IZ, -0.785],\n",
       " [IY, -0.785, ZY, 0.785],\n",
       " [IZ, -0.785, XZ, -0.785],\n",
       " [IX, -0.785, ZI, 0.785],\n",
       " [XY, -0.785, YZ, 0.785],\n",
       " [YY, -0.785],\n",
       " [XI, -0.785],\n",
       " [ZI, -0.785, ZZ, 0.785],\n",
       " [XI, 0.785],\n",
       " [ZX, 0.785],\n",
       " [XX, 0.785]]"
      ]
     },
     "execution_count": 12,
     "metadata": {},
     "output_type": "execute_result"
    }
   ],
   "source": [
    "p =grouping(optimize_data_loop(\n",
    "    three_layer_nontrivial_swap(grouping(A)), show_opt_log=True\n",
    ")[1])\n",
    "p"
   ]
  },
  {
   "cell_type": "code",
   "execution_count": 13,
   "id": "d27b390a",
   "metadata": {},
   "outputs": [],
   "source": [
    "seq_a = [\n",
    "    PauliBit(\"ix\", -np.pi / 4),\n",
    "    PauliBit(\"xy\", np.pi / 4),\n",
    "    PauliBit(\"zy\", -np.pi / 4),\n",
    "    PauliBit(\"yy\", -np.pi / 4),\n",
    "    PauliBit(\"zz\", -np.pi / 4),\n",
    "    PauliBit(\"ix\", np.pi / 4),\n",
    "    PauliBit(\"xi\", np.pi / 4),\n",
    "    PauliBit(\"yz\", -np.pi / 4),\n",
    "    PauliBit(\"xz\", -np.pi / 4),\n",
    "    PauliBit(\"zz\", -np.pi / 4),\n",
    "]\n",
    "\n",
    "# seq_b = [\n",
    "#     PauliBit(\"XZ\", np.pi / 4),\n",
    "#     PauliBit(\"ZI\", -np.pi / 4),\n",
    "#     PauliBit(\"ZZ\", np.pi / 4),\n",
    "#     PauliBit(\"XZ\", -np.pi / 4),\n",
    "# ]\n",
    "# equiv([[], seq_a], [[], seq_b])"
   ]
  },
  {
   "cell_type": "code",
   "execution_count": 14,
   "id": "9181b572",
   "metadata": {},
   "outputs": [
    {
     "data": {
      "text/plain": [
       "[[IX, -0.785],\n",
       " [XY, 0.785],\n",
       " [ZY, -0.785],\n",
       " [YY, -0.785, ZZ, -0.785],\n",
       " [IX, 0.785, XI, 0.785],\n",
       " [YZ, -0.785],\n",
       " [XZ, -0.785],\n",
       " [ZZ, -0.785]]"
      ]
     },
     "execution_count": 14,
     "metadata": {},
     "output_type": "execute_result"
    }
   ],
   "source": [
    "m = grouping(seq_a)\n",
    "m"
   ]
  },
  {
   "cell_type": "code",
   "execution_count": 15,
   "id": "98ce9b37",
   "metadata": {},
   "outputs": [
    {
     "name": "stdout",
     "output_type": "stream",
     "text": [
      "Swapping [ZY, -0.785, YZ, 0.785, YZ, -0.785] and [YY, -0.785, ZZ, -0.785] at index 2\n",
      "Swapping [ZY, 0.785, YZ, 0.785] and [IX, 0.785, XI, 0.785] at index 3\n"
     ]
    },
    {
     "data": {
      "text/plain": [
       "[IX, -0.785,\n",
       " XY, 0.785,\n",
       " YZ, -0.785,\n",
       " ZY, -1.571,\n",
       " YY, -0.785,\n",
       " ZZ, -0.785,\n",
       " ZY, 1.571,\n",
       " IX, 0.785,\n",
       " XI, 0.785,\n",
       " ZY, -0.785,\n",
       " YZ, 0.785,\n",
       " YZ, -0.785,\n",
       " XZ, -0.785,\n",
       " ZZ, -0.785]"
      ]
     },
     "execution_count": 15,
     "metadata": {},
     "output_type": "execute_result"
    }
   ],
   "source": [
    "\n",
    "m[2] += [PauliBit(\"YZ\", np.pi / 4), PauliBit(\"YZ\", -np.pi / 4)]\n",
    "# optimize_data_loop(mcr_swap(m))\n",
    "mcr_swap(m)"
   ]
  },
  {
   "cell_type": "code",
   "execution_count": null,
   "id": "0200da64",
   "metadata": {},
   "outputs": [],
   "source": []
  }
 ],
 "metadata": {
  "kernelspec": {
   "display_name": ".venv",
   "language": "python",
   "name": "python3"
  },
  "language_info": {
   "codemirror_mode": {
    "name": "ipython",
    "version": 3
   },
   "file_extension": ".py",
   "mimetype": "text/x-python",
   "name": "python",
   "nbconvert_exporter": "python",
   "pygments_lexer": "ipython3",
   "version": "3.11.12"
  }
 },
 "nbformat": 4,
 "nbformat_minor": 5
}
