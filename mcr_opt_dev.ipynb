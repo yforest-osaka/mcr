{
 "cells": [
  {
   "cell_type": "code",
   "execution_count": 1,
   "id": "c65aca26",
   "metadata": {},
   "outputs": [],
   "source": [
    "\n",
    "from itertools import permutations\n",
    "from joblib import Parallel, delayed\n",
    "from more_itertools import distinct_permutations\n",
    "from tqdm import tqdm\n",
    "import numpy as np\n",
    "import pickle\n",
    "\n",
    "from qulacs import QuantumCircuit\n",
    "\n",
    "from mcr.equiv_check import (\n",
    "    equiv,\n",
    "    pauli_bit_equivalence_check,\n",
    "    equivalence_check_via_mqt_qcec,\n",
    ")\n",
    "\n",
    "from mcr.gate_apply import (\n",
    "    PauliBit,\n",
    "    grouping,\n",
    "    loop_optimization,\n",
    "    set_clifford_to_qulacs,\n",
    "    zhang_optimization,\n",
    ")\n",
    "\n",
    "from opt_using_mcr import test_algorithm\n",
    "from perform_mcr import (\n",
    "    attempt_mcr_retry,\n",
    "    three_layer_nontrivial_swap,\n",
    ")\n",
    "from optimizer import (\n",
    "    full_optimization,\n",
    "    optimize_data_loop,\n",
    "    mcr_swap,\n",
    "    have_common_pauli_str,\n",
    ")"
   ]
  },
  {
   "cell_type": "code",
   "execution_count": 2,
   "id": "53c8a38c",
   "metadata": {},
   "outputs": [],
   "source": [
    "filetype = \"seq\"  # \"small\" or \"seq\"\n",
    "nqubits = 20  # Number of qubits in the circuit\n",
    "# with open(f\"unopt_{filetype}.pickle\", \"rb\") as f:\n",
    "with open(f\"unopt_{nqubits}.pickle\", \"rb\") as f:\n",
    "    seq = pickle.load(f)\n",
    "data = []\n",
    "for elem in seq:\n",
    "    sgn = str(elem[1])[0]\n",
    "    pauli_str = str(elem[1])[1:]\n",
    "    if sgn == \"+\":\n",
    "        data.append(PauliBit(pauli_str, np.pi/4))\n",
    "    else:\n",
    "        assert sgn == \"-\", f\"Unexpected sign: {sgn}\"\n",
    "        data.append(PauliBit(pauli_str, -np.pi/4))\n",
    "data.append(PauliBit(\"Z\" * nqubits, -np.pi / 4))  # Add identity gate"
   ]
  },
  {
   "cell_type": "code",
   "execution_count": 3,
   "id": "526408ee",
   "metadata": {},
   "outputs": [],
   "source": [
    "def load_data_from_pickle(filepath: str, nqubits: int) -> list:\n",
    "    \"\"\"pickle形式のファイルを読み込む\n",
    "\n",
    "    Args:\n",
    "        filepath (str): pickle形式のファイルパス\n",
    "\n",
    "    Returns:\n",
    "        list: 読み込んだデータのリスト\n",
    "    \"\"\"\n",
    "    with open(filepath, mode=\"br\") as f:\n",
    "        data = pickle.load(f)\n",
    "    pauli_bit_sequences = []\n",
    "    for elem in data:\n",
    "        initial_pauli_str, theta, qubit_indices = elem\n",
    "        pauli_str = [\"I\"] * nqubits\n",
    "        for pauli, qubit_idx in zip(initial_pauli_str, qubit_indices):\n",
    "            pauli_str[qubit_idx] = pauli\n",
    "        pauli_bit = PauliBit(\"\".join(pauli_str), theta)\n",
    "        pauli_bit_sequences.append(pauli_bit)\n",
    "    return pauli_bit_sequences\n",
    "nqubits = 6\n",
    "# data = load_data_from_pickle(\"te_pai_data.pickle\", nqubits=nqubits)"
   ]
  },
  {
   "cell_type": "code",
   "execution_count": 4,
   "id": "0d5c86f7",
   "metadata": {},
   "outputs": [
    {
     "name": "stdout",
     "output_type": "stream",
     "text": [
      "🔁 Optimization iteration: 1 / 3\n",
      "🎉 Optimization success in iteration 1: 4796 → 3198\n",
      "🎉 Optimization success in iteration 2: 3198 → 2008\n",
      "🎉 Optimization success in iteration 3: 2008 → 1178\n",
      "🎉 Optimization success in iteration 4: 1178 → 806\n",
      "🎉 Optimization success in iteration 5: 806 → 586\n",
      "🎉 Optimization success in iteration 6: 586 → 458\n",
      "🎉 Optimization success in iteration 7: 458 → 350\n",
      "🎉 Optimization success in iteration 8: 350 → 280\n",
      "🎉 Optimization success in iteration 9: 280 → 220\n",
      "🎉 Optimization success in iteration 10: 220 → 182\n",
      "🎉 Optimization success in iteration 11: 182 → 166\n",
      "🎉 Optimization success in iteration 12: 166 → 148\n",
      "🎉 Optimization success in iteration 13: 148 → 132\n",
      "🎉 Optimization success in iteration 14: 132 → 130\n",
      "🔍 No optimization in iteration 15: 130 → 130\n",
      "⚙️  Additional optimization: 1 / 3\n",
      "🎉 Optimization success in iteration 1: 154 → 124\n",
      "🎉 Optimization success in iteration 2: 124 → 108\n",
      "🎉 Optimization success in iteration 3: 108 → 100\n",
      "🎉 Optimization success in iteration 4: 100 → 92\n",
      "🎉 Optimization success in iteration 5: 92 → 60\n",
      "🎉 Optimization success in iteration 6: 60 → 50\n",
      "🔍 No optimization in iteration 7: 50 → 50\n",
      "🔁 Optimization iteration: 2 / 3\n",
      "🔍 No optimization in iteration 1: 50 → 50\n",
      "⚙️  Additional optimization: 2 / 3\n",
      "🎉 Optimization success in iteration 1: 62 → 54\n",
      "🎉 Optimization success in iteration 2: 54 → 28\n",
      "🔍 No optimization in iteration 3: 28 → 28\n",
      "🔁 Optimization iteration: 3 / 3\n",
      "🎉 Optimization success in iteration 1: 28 → 22\n",
      "🔍 No optimization in iteration 2: 22 → 22\n",
      "⚙️  Additional optimization: 3 / 3\n",
      "🎉 Optimization success in iteration 1: 28 → 26\n",
      "🎉 Optimization success in iteration 2: 26 → 22\n",
      "🔍 No optimization in iteration 3: 22 → 22\n"
     ]
    }
   ],
   "source": [
    "clifford, non_clifford = full_optimization(data, max_iter=3, show_opt_log=True)"
   ]
  },
  {
   "cell_type": "code",
   "execution_count": 5,
   "id": "2eaecca0",
   "metadata": {},
   "outputs": [
    {
     "data": {
      "text/plain": [
       "[ZXZYXXIZIZXYXXYXXZII, 0.785,\n",
       " YZIIIYYXZYYIYIXXYZXY, -0.785,\n",
       " YZYXYZZIIYXYIZXZYZZX, -0.785,\n",
       " YZIZXIIIYXYZXYIIZXIZ, 0.785,\n",
       " ZIYYIXYYXZZXZXXIIZZY, 0.785,\n",
       " ZIYYIZZYYYYYIIYIYYXZ, 0.785,\n",
       " YXYIIXIIZYZZYXIXIZIY, -0.785,\n",
       " IYIXYYZIZIYXYYXYYIZZ, 0.785,\n",
       " XXXYIYZIXIYZIYIYIXXX, 0.785,\n",
       " YXYIIXIIZYZZYXIXIZIY, 0.785,\n",
       " ZIXIZIIIIXYXZYXIXIYX, -0.785,\n",
       " IIYYZZZIYZZXXXXZXYZY, -0.785,\n",
       " IYIXYYZIZIYXYYXYYIZZ, -0.785,\n",
       " YZYXYZZIIYXYIZXZYZZX, 0.785,\n",
       " ZIZYIZZIYYXIYZIZIYXZ, 0.785,\n",
       " IYIXYYZIZIYXYYXYYIZZ, -0.785,\n",
       " YXIXYIXXIYIXIYIZIZYX, 0.785,\n",
       " YXIYZIYIYIXXIXYYZIXX, -0.785,\n",
       " IYZZXXIYXZYYXIYYXYIX, 0.785,\n",
       " ZIIIZYXYZIIIYIIZXXII, -0.785,\n",
       " YXIYZIYIYIXXIXYYZIXX, 0.785,\n",
       " ZZZZZZZZZZZZZZZZZZZZ, -0.785]"
      ]
     },
     "execution_count": 5,
     "metadata": {},
     "output_type": "execute_result"
    }
   ],
   "source": [
    "non_clifford"
   ]
  },
  {
   "cell_type": "code",
   "execution_count": 6,
   "id": "ae1bb1f9",
   "metadata": {},
   "outputs": [
    {
     "data": {
      "text/plain": [
       "[[ZXZYXXIZIZXYXXYXXZII, 0.785],\n",
       " [YZIIIYYXZYYIYIXXYZXY, -0.785, YZYXYZZIIYXYIZXZYZZX, -0.785],\n",
       " [YZIZXIIIYXYZXYIIZXIZ, 0.785,\n",
       "  ZIYYIXYYXZZXZXXIIZZY, 0.785,\n",
       "  ZIYYIZZYYYYYIIYIYYXZ, 0.785],\n",
       " [YXYIIXIIZYZZYXIXIZIY, -0.785],\n",
       " [IYIXYYZIZIYXYYXYYIZZ, 0.785, XXXYIYZIXIYZIYIYIXXX, 0.785],\n",
       " [YXYIIXIIZYZZYXIXIZIY, 0.785, ZIXIZIIIIXYXZYXIXIYX, -0.785],\n",
       " [IIYYZZZIYZZXXXXZXYZY, -0.785, IYIXYYZIZIYXYYXYYIZZ, -0.785],\n",
       " [YZYXYZZIIYXYIZXZYZZX, 0.785, ZIZYIZZIYYXIYZIZIYXZ, 0.785],\n",
       " [IYIXYYZIZIYXYYXYYIZZ, -0.785],\n",
       " [YXIXYIXXIYIXIYIZIZYX, 0.785, YXIYZIYIYIXXIXYYZIXX, -0.785],\n",
       " [IYZZXXIYXZYYXIYYXYIX, 0.785, ZIIIZYXYZIIIYIIZXXII, -0.785],\n",
       " [YXIYZIYIYIXXIXYYZIXX, 0.785, ZZZZZZZZZZZZZZZZZZZZ, -0.785]]"
      ]
     },
     "execution_count": 6,
     "metadata": {},
     "output_type": "execute_result"
    }
   ],
   "source": [
    "m = grouping(non_clifford)\n",
    "m"
   ]
  },
  {
   "cell_type": "code",
   "execution_count": null,
   "id": "ae0adec3",
   "metadata": {},
   "outputs": [],
   "source": []
  },
  {
   "cell_type": "code",
   "execution_count": null,
   "id": "9d76c3e0",
   "metadata": {},
   "outputs": [],
   "source": []
  },
  {
   "cell_type": "code",
   "execution_count": 10,
   "id": "9c939637",
   "metadata": {},
   "outputs": [],
   "source": [
    "# equiv([[],data],[clifford, non_clifford])"
   ]
  },
  {
   "cell_type": "code",
   "execution_count": null,
   "id": "f3d6ba7f",
   "metadata": {},
   "outputs": [],
   "source": []
  },
  {
   "cell_type": "code",
   "execution_count": null,
   "id": "08ac2366",
   "metadata": {},
   "outputs": [],
   "source": []
  },
  {
   "cell_type": "code",
   "execution_count": null,
   "id": "fa891b32",
   "metadata": {},
   "outputs": [],
   "source": []
  },
  {
   "cell_type": "code",
   "execution_count": null,
   "id": "b47c2943",
   "metadata": {},
   "outputs": [
    {
     "data": {
      "text/plain": [
       "False"
      ]
     },
     "execution_count": 14,
     "metadata": {},
     "output_type": "execute_result"
    }
   ],
   "source": [
    "# itertools.permutations で全列挙は計算量が膨大なので、numpy配列でインデックスの順列を生成し、必要な部分だけ計算することで高速化します。\n",
    "seq_a = [\n",
    "    PauliBit(\"ix\", -np.pi / 4),\n",
    "    PauliBit(\"zi\", -np.pi / 4),\n",
    "    PauliBit(\"xy\", np.pi / 4),\n",
    "    PauliBit(\"zy\", -np.pi / 4),\n",
    "    PauliBit(\"yy\", -np.pi / 4),\n",
    "    PauliBit(\"zz\", -np.pi / 4),\n",
    "    PauliBit(\"ix\", np.pi / 4),\n",
    "    PauliBit(\"xi\", np.pi / 4),\n",
    "    PauliBit(\"yz\", -np.pi / 4),\n",
    "    PauliBit(\"xz\", -np.pi / 4),\n",
    "    PauliBit(\"zz\", -np.pi / 4),\n",
    "]\n",
    "seq_b = [PauliBit(\"yx\", -np.pi / 4)]\n",
    "equiv([[], seq_a], [[],seq_b])"
   ]
  },
  {
   "cell_type": "code",
   "execution_count": null,
   "id": "b6d4841c",
   "metadata": {},
   "outputs": [],
   "source": [
    "A = [\n",
    "    PauliBit(\"IZ\", -np.pi / 4),\n",
    "    PauliBit(\"ZY\", np.pi / 4),\n",
    "    PauliBit(\"XY\", -np.pi / 4),\n",
    "    PauliBit(\"IZ\", -np.pi / 4),\n",
    "    PauliBit(\"XZ\", -np.pi / 4),\n",
    "    PauliBit(\"IY\", -np.pi / 4),\n",
    "    PauliBit(\"YZ\", np.pi / 4),\n",
    "    PauliBit(\"IX\", -np.pi / 4),\n",
    "    PauliBit(\"ZI\", np.pi / 4),\n",
    "    PauliBit(\"YY\", -np.pi / 4),\n",
    "    PauliBit(\"XI\", -np.pi / 4),\n",
    "    PauliBit(\"ZI\", -np.pi / 4),\n",
    "    PauliBit(\"ZZ\", np.pi / 4),\n",
    "    PauliBit(\"XI\", np.pi / 4),\n",
    "    PauliBit(\"ZX\", np.pi / 4),\n",
    "    PauliBit(\"XX\", np.pi / 4),\n",
    "]"
   ]
  },
  {
   "cell_type": "code",
   "execution_count": null,
   "id": "ba506a64",
   "metadata": {},
   "outputs": [
    {
     "data": {
      "text/plain": [
       "[[IZ, -0.785],\n",
       " [ZY, 0.785],\n",
       " [XY, -0.785],\n",
       " [IZ, -0.785, XZ, -0.785],\n",
       " [IY, -0.785],\n",
       " [YZ, 0.785],\n",
       " [IX, -0.785, ZI, 0.785],\n",
       " [YY, -0.785],\n",
       " [XI, -0.785, XZ, 0.785, XZ, -0.785],\n",
       " [ZI, -0.785, ZZ, 0.785],\n",
       " [XI, 0.785],\n",
       " [ZX, 0.785],\n",
       " [XX, 0.785]]"
      ]
     },
     "execution_count": 16,
     "metadata": {},
     "output_type": "execute_result"
    }
   ],
   "source": [
    "m = grouping(A)\n",
    "# m[8] += [PauliBit(\"XZ\", -np.pi / 4)]\n",
    "# m.insert(8, [PauliBit(\"XZ\", np.pi / 4)])\n",
    "m[8] += [PauliBit(\"XZ\", np.pi / 4), PauliBit(\"XZ\", -np.pi / 4)]\n",
    "# m.insert(8, [PauliBit(\"XZ\", -np.pi / 4)])\n",
    "m"
   ]
  },
  {
   "cell_type": "code",
   "execution_count": null,
   "id": "31adc16e",
   "metadata": {},
   "outputs": [
    {
     "name": "stdout",
     "output_type": "stream",
     "text": [
      "======\n",
      "======\n",
      "======\n",
      "======\n",
      "======\n",
      "======\n",
      "======\n",
      "======\n",
      "update_MCR\n",
      "left_bits: (XI, -0.785, XZ, 0.785), right_bits: (ZI, -0.785, ZZ, 0.785)\n",
      "======\n",
      "======\n",
      "======\n",
      "======\n",
      "======\n",
      "======\n",
      "======\n",
      "======\n",
      "only swap\n",
      "left_bits: (IX, -0.785, ZI, 0.785), right_bits: (YY, -0.785, XZ, -0.785)\n",
      "======\n",
      "======\n",
      "only swap\n",
      "left_bits: (ZI, -0.785, ZZ, 0.785), right_bits: (XI, 0.785, XZ, 0.785)\n",
      "======\n",
      "🎉 Optimization success in iteration 1: 19 → 18\n",
      "======\n",
      "======\n",
      "======\n",
      "======\n",
      "======\n",
      "======\n",
      "only swap\n",
      "left_bits: (XZ, -0.785, YY, -0.785), right_bits: (IX, -0.785, ZI, 0.785)\n",
      "======\n",
      "======\n",
      "======\n",
      "======\n",
      "🎉 Optimization success in iteration 2: 18 → 16\n",
      "======\n",
      "======\n",
      "======\n",
      "======\n",
      "======\n",
      "======\n",
      "======\n",
      "======\n",
      "======\n",
      "======\n",
      "======\n",
      "======\n",
      "🔍 No optimization in iteration 3: 16 → 16\n",
      "======\n",
      "======\n",
      "======\n",
      "======\n",
      "======\n",
      "======\n",
      "======\n",
      "======\n",
      "======\n",
      "======\n",
      "======\n",
      "======\n",
      "🔍 No optimization in iteration 3: 16 → 16\n",
      "======\n",
      "======\n",
      "======\n",
      "======\n",
      "======\n",
      "======\n",
      "======\n",
      "======\n",
      "======\n",
      "======\n",
      "======\n",
      "======\n",
      "🔍 No optimization in iteration 3: 16 → 16\n"
     ]
    }
   ],
   "source": [
    "# ini = m.copy()\n",
    "seq = mcr_swap(m)\n",
    "clifford_lst, optimized_data = optimize_data_loop(\n",
    "    seq, show_opt_log=True, max_attempts=3\n",
    ")\n"
   ]
  },
  {
   "cell_type": "code",
   "execution_count": null,
   "id": "59cb2310",
   "metadata": {},
   "outputs": [
    {
     "name": "stdout",
     "output_type": "stream",
     "text": [
      "======\n",
      "======\n",
      "======\n",
      "======\n",
      "======\n",
      "======\n",
      "only swap\n",
      "left_bits: (IX, -0.785, ZI, 0.785), right_bits: (YY, -0.785, XZ, -0.785)\n",
      "======\n",
      "======\n",
      "only swap\n",
      "left_bits: (ZI, -0.785, ZZ, 0.785), right_bits: (XI, 0.785, XZ, 0.785)\n",
      "======\n",
      "🎉 Optimization success in iteration 1: 19 → 18\n",
      "======\n",
      "======\n",
      "======\n",
      "======\n",
      "======\n",
      "======\n",
      "only swap\n",
      "left_bits: (XZ, -0.785, YY, -0.785), right_bits: (IX, -0.785, ZI, 0.785)\n",
      "======\n",
      "======\n",
      "======\n",
      "======\n",
      "🎉 Optimization success in iteration 2: 18 → 16\n",
      "======\n",
      "======\n",
      "======\n",
      "======\n",
      "======\n",
      "======\n",
      "======\n",
      "======\n",
      "======\n",
      "======\n",
      "======\n",
      "======\n",
      "🔍 No optimization in iteration 3: 16 → 16\n",
      "======\n",
      "======\n",
      "======\n",
      "======\n",
      "======\n",
      "======\n",
      "======\n",
      "======\n",
      "======\n",
      "======\n",
      "======\n",
      "======\n",
      "🔍 No optimization in iteration 3: 16 → 16\n",
      "======\n",
      "======\n",
      "======\n",
      "======\n",
      "======\n",
      "======\n",
      "======\n",
      "======\n",
      "======\n",
      "======\n",
      "======\n",
      "======\n",
      "🔍 No optimization in iteration 3: 16 → 16\n"
     ]
    }
   ],
   "source": [
    "clifford_lst, optimized_data = optimize_data_loop(\n",
    "    seq, show_opt_log=True, max_attempts=3\n",
    ")\n"
   ]
  },
  {
   "cell_type": "code",
   "execution_count": null,
   "id": "570a8cac",
   "metadata": {},
   "outputs": [
    {
     "data": {
      "text/plain": [
       "[IZ, -0.785,\n",
       " ZY, 0.785,\n",
       " XY, -0.785,\n",
       " IZ, -0.785,\n",
       " XZ, -0.785,\n",
       " IY, -0.785,\n",
       " YZ, 0.785,\n",
       " IX, -0.785,\n",
       " ZI, 0.785,\n",
       " YY, -0.785,\n",
       " XI, -0.785,\n",
       " ZI, -0.785,\n",
       " ZZ, 0.785,\n",
       " XI, 0.785,\n",
       " ZX, 0.785,\n",
       " XX, 0.785]"
      ]
     },
     "execution_count": 19,
     "metadata": {},
     "output_type": "execute_result"
    }
   ],
   "source": [
    "optimized_data"
   ]
  },
  {
   "cell_type": "code",
   "execution_count": null,
   "id": "afc30e1c",
   "metadata": {},
   "outputs": [
    {
     "data": {
      "text/plain": [
       "([IZ, -0.785,\n",
       "  ZY, 0.785,\n",
       "  IY, -0.785,\n",
       "  IZ, -0.785,\n",
       "  XZ, -0.785,\n",
       "  XY, -0.785,\n",
       "  YZ, 0.785,\n",
       "  IX, -0.785,\n",
       "  ZI, 0.785,\n",
       "  YY, -0.785,\n",
       "  XI, -0.785,\n",
       "  ZI, -0.785,\n",
       "  ZZ, 0.785,\n",
       "  XI, 0.785,\n",
       "  ZX, 0.785,\n",
       "  XX, 0.785],\n",
       " {2})"
      ]
     },
     "execution_count": 20,
     "metadata": {},
     "output_type": "execute_result"
    }
   ],
   "source": [
    "three_layer_nontrivial_swap(grouping(A),with_mcr_index=True)"
   ]
  },
  {
   "cell_type": "code",
   "execution_count": null,
   "id": "d4005ac0",
   "metadata": {},
   "outputs": [
    {
     "name": "stdout",
     "output_type": "stream",
     "text": [
      "======\n",
      "======\n",
      "======\n",
      "only swap\n",
      "left_bits: (XY, -0.785, YZ, 0.785), right_bits: (IX, -0.785, ZI, 0.785)\n",
      "======\n",
      "======\n",
      "======\n",
      "======\n",
      "======\n",
      "======\n",
      "🔍 No optimization in iteration 1: 16 → 16\n"
     ]
    },
    {
     "data": {
      "text/plain": [
       "[[IZ, -0.785],\n",
       " [IY, -0.785, ZY, 0.785],\n",
       " [IZ, -0.785, XZ, -0.785],\n",
       " [IX, -0.785, ZI, 0.785],\n",
       " [XY, -0.785, YZ, 0.785],\n",
       " [YY, -0.785],\n",
       " [XI, -0.785],\n",
       " [ZI, -0.785, ZZ, 0.785],\n",
       " [XI, 0.785],\n",
       " [ZX, 0.785],\n",
       " [XX, 0.785]]"
      ]
     },
     "execution_count": 21,
     "metadata": {},
     "output_type": "execute_result"
    }
   ],
   "source": [
    "p =grouping(optimize_data_loop(\n",
    "    three_layer_nontrivial_swap(grouping(A)), show_opt_log=True\n",
    ")[1])\n",
    "p"
   ]
  },
  {
   "cell_type": "code",
   "execution_count": null,
   "id": "d27b390a",
   "metadata": {},
   "outputs": [],
   "source": [
    "seq_a = [\n",
    "    PauliBit(\"ix\", -np.pi / 4),\n",
    "    PauliBit(\"xy\", np.pi / 4),\n",
    "    PauliBit(\"zy\", -np.pi / 4),\n",
    "    PauliBit(\"yy\", -np.pi / 4),\n",
    "    PauliBit(\"zz\", -np.pi / 4),\n",
    "    PauliBit(\"ix\", np.pi / 4),\n",
    "    PauliBit(\"xi\", np.pi / 4),\n",
    "    PauliBit(\"yz\", -np.pi / 4),\n",
    "    PauliBit(\"xz\", -np.pi / 4),\n",
    "    PauliBit(\"zz\", -np.pi / 4),\n",
    "]\n",
    "\n",
    "# seq_b = [\n",
    "#     PauliBit(\"XZ\", np.pi / 4),\n",
    "#     PauliBit(\"ZI\", -np.pi / 4),\n",
    "#     PauliBit(\"ZZ\", np.pi / 4),\n",
    "#     PauliBit(\"XZ\", -np.pi / 4),\n",
    "# ]\n",
    "# equiv([[], seq_a], [[], seq_b])"
   ]
  },
  {
   "cell_type": "code",
   "execution_count": null,
   "id": "9181b572",
   "metadata": {},
   "outputs": [
    {
     "data": {
      "text/plain": [
       "[[IX, -0.785],\n",
       " [XY, 0.785],\n",
       " [ZY, -0.785],\n",
       " [YY, -0.785, ZZ, -0.785],\n",
       " [IX, 0.785, XI, 0.785],\n",
       " [YZ, -0.785],\n",
       " [XZ, -0.785],\n",
       " [ZZ, -0.785]]"
      ]
     },
     "execution_count": 23,
     "metadata": {},
     "output_type": "execute_result"
    }
   ],
   "source": [
    "m = grouping(seq_a)\n",
    "m"
   ]
  },
  {
   "cell_type": "code",
   "execution_count": null,
   "id": "98ce9b37",
   "metadata": {},
   "outputs": [
    {
     "name": "stdout",
     "output_type": "stream",
     "text": [
      "======\n",
      "======\n",
      "update_MCR\n",
      "left_bits: (ZY, -0.785, YZ, 0.785), right_bits: (YY, -0.785, ZZ, -0.785)\n",
      "update_MCR\n",
      "left_bits: (ZY, 0.785, YZ, 0.785), right_bits: (IX, 0.785, XI, 0.785)\n",
      "======\n",
      "======\n"
     ]
    },
    {
     "data": {
      "text/plain": [
       "[IX, -0.785,\n",
       " XY, 0.785,\n",
       " YZ, -0.785,\n",
       " ZY, -1.571,\n",
       " YY, -0.785,\n",
       " ZZ, -0.785,\n",
       " ZY, 1.571,\n",
       " IX, 0.785,\n",
       " XI, 0.785,\n",
       " ZY, -0.785,\n",
       " YZ, 0.785,\n",
       " YZ, -0.785,\n",
       " XZ, -0.785,\n",
       " ZZ, -0.785]"
      ]
     },
     "execution_count": 24,
     "metadata": {},
     "output_type": "execute_result"
    }
   ],
   "source": [
    "\n",
    "m[2] += [PauliBit(\"YZ\", np.pi / 4), PauliBit(\"YZ\", -np.pi / 4)]\n",
    "# optimize_data_loop(mcr_swap(m))\n",
    "mcr_swap(m)"
   ]
  },
  {
   "cell_type": "code",
   "execution_count": null,
   "id": "0200da64",
   "metadata": {},
   "outputs": [],
   "source": []
  }
 ],
 "metadata": {
  "kernelspec": {
   "display_name": ".venv",
   "language": "python",
   "name": "python3"
  },
  "language_info": {
   "codemirror_mode": {
    "name": "ipython",
    "version": 3
   },
   "file_extension": ".py",
   "mimetype": "text/x-python",
   "name": "python",
   "nbconvert_exporter": "python",
   "pygments_lexer": "ipython3",
   "version": "3.11.12"
  }
 },
 "nbformat": 4,
 "nbformat_minor": 5
}
