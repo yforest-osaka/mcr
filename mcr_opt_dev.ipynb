{
 "cells": [
  {
   "cell_type": "code",
   "execution_count": 1,
   "id": "c65aca26",
   "metadata": {},
   "outputs": [],
   "source": [
    "\n",
    "from itertools import permutations\n",
    "from joblib import Parallel, delayed\n",
    "from more_itertools import distinct_permutations\n",
    "from tqdm import tqdm\n",
    "import numpy as np\n",
    "import pickle\n",
    "\n",
    "from qulacs import QuantumCircuit\n",
    "\n",
    "from mcr.equiv_check import (\n",
    "    equiv,\n",
    "    pauli_bit_equivalence_check,\n",
    "    equivalence_check_via_mqt_qcec,\n",
    ")\n",
    "\n",
    "from mcr.gate_apply import (\n",
    "    PauliBit,\n",
    "    grouping,\n",
    "    loop_optimization,\n",
    "    set_clifford_to_qulacs,\n",
    "    zhang_optimization,\n",
    ")\n",
    "\n",
    "from opt_using_mcr import test_algorithm\n",
    "from optimizer import (\n",
    "    full_optimization,\n",
    "    optimize_data_loop,\n",
    "    mcr_swap,\n",
    "    have_common_pauli_str,\n",
    "    attempt_mcr_retry,\n",
    "    three_layer_nontrivial_swap,\n",
    ")"
   ]
  },
  {
   "cell_type": "code",
   "execution_count": 2,
   "id": "53c8a38c",
   "metadata": {},
   "outputs": [],
   "source": [
    "filetype = \"seq\"  # \"small\" or \"seq\"\n",
    "nqubits = 3  # Number of qubits in the circuit\n",
    "# with open(f\"unopt_{filetype}.pickle\", \"rb\") as f:\n",
    "with open(f\"unopt_{nqubits}.pickle\", \"rb\") as f:\n",
    "    seq = pickle.load(f)\n",
    "data = []\n",
    "for elem in seq:\n",
    "    sgn = str(elem[1])[0]\n",
    "    pauli_str = str(elem[1])[1:]\n",
    "    if sgn == \"+\":\n",
    "        data.append(PauliBit(pauli_str, np.pi/4))\n",
    "    else:\n",
    "        assert sgn == \"-\", f\"Unexpected sign: {sgn}\"\n",
    "        data.append(PauliBit(pauli_str, -np.pi/4))\n",
    "data.append(PauliBit(\"Z\" * nqubits, -np.pi / 4))  # Add identity gate"
   ]
  },
  {
   "cell_type": "code",
   "execution_count": 3,
   "id": "526408ee",
   "metadata": {},
   "outputs": [],
   "source": [
    "def load_data_from_pickle(filepath: str, nqubits: int) -> list:\n",
    "    \"\"\"pickle形式のファイルを読み込む\n",
    "\n",
    "    Args:\n",
    "        filepath (str): pickle形式のファイルパス\n",
    "\n",
    "    Returns:\n",
    "        list: 読み込んだデータのリスト\n",
    "    \"\"\"\n",
    "    with open(filepath, mode=\"br\") as f:\n",
    "        data = pickle.load(f)\n",
    "    pauli_bit_sequences = []\n",
    "    for elem in data:\n",
    "        initial_pauli_str, theta, qubit_indices = elem\n",
    "        pauli_str = [\"I\"] * nqubits\n",
    "        for pauli, qubit_idx in zip(initial_pauli_str, qubit_indices):\n",
    "            pauli_str[qubit_idx] = pauli\n",
    "        pauli_bit = PauliBit(\"\".join(pauli_str), theta)\n",
    "        pauli_bit_sequences.append(pauli_bit)\n",
    "    return pauli_bit_sequences\n",
    "nqubits = 6\n",
    "# data = load_data_from_pickle(\"te_pai_data.pickle\", nqubits=nqubits)"
   ]
  },
  {
   "cell_type": "code",
   "execution_count": 6,
   "id": "0d5c86f7",
   "metadata": {},
   "outputs": [
    {
     "name": "stdout",
     "output_type": "stream",
     "text": [
      "🔁 Optimization iteration: 1 / 5\n",
      "🎉 Optimization success in iteration 1: 120 → 42\n",
      "🎉 Optimization success in iteration 2: 42 → 30\n",
      "🎉 Optimization success in iteration 3: 30 → 16\n",
      "🎉 Optimization success in iteration 4: 16 → 14\n",
      "🔍 No optimization in iteration 5: 14 → 14\n",
      "⚙️  Additional optimization: 1 / 5\n",
      "🎉 Optimization success in iteration 1: 22 → 16\n",
      "🎉 Optimization success in iteration 2: 16 → 14\n",
      "🔍 No optimization in iteration 3: 14 → 14\n",
      "🔁 Optimization iteration: 2 / 5\n",
      "🔍 No optimization in iteration 1: 14 → 14\n",
      "⚙️  Additional optimization: 2 / 5\n",
      "🎉 Optimization success in iteration 1: 22 → 18\n",
      "🎉 Optimization success in iteration 2: 18 → 14\n",
      "🔍 No optimization in iteration 3: 14 → 14\n",
      "🔁 Optimization iteration: 3 / 5\n",
      "🎉 Optimization success: 14 → 0\n"
     ]
    }
   ],
   "source": [
    "clifford, non_clifford = full_optimization(data, max_iter=5, show_opt_log=True)"
   ]
  },
  {
   "cell_type": "code",
   "execution_count": 5,
   "id": "2eaecca0",
   "metadata": {},
   "outputs": [
    {
     "data": {
      "text/plain": [
       "0"
      ]
     },
     "execution_count": 5,
     "metadata": {},
     "output_type": "execute_result"
    }
   ],
   "source": [
    "len(non_clifford)"
   ]
  },
  {
   "cell_type": "code",
   "execution_count": null,
   "id": "e5791dfc",
   "metadata": {},
   "outputs": [],
   "source": []
  },
  {
   "cell_type": "code",
   "execution_count": 6,
   "id": "2046e22b",
   "metadata": {},
   "outputs": [
    {
     "name": "stdout",
     "output_type": "stream",
     "text": [
      "🔍 No optimization in iteration 1: 14 → 14\n"
     ]
    },
    {
     "data": {
      "text/plain": [
       "14"
      ]
     },
     "execution_count": 6,
     "metadata": {},
     "output_type": "execute_result"
    }
   ],
   "source": [
    "new_clifford_lst, new_optimized_data = optimize_data_loop(\n",
    "    non_clifford, show_opt_log=True, max_attempts=1\n",
    ")\n",
    "len(new_optimized_data)"
   ]
  },
  {
   "cell_type": "code",
   "execution_count": 7,
   "id": "ba67f720",
   "metadata": {},
   "outputs": [],
   "source": [
    "m = grouping(non_clifford)"
   ]
  },
  {
   "cell_type": "code",
   "execution_count": 8,
   "id": "f18b2ff9",
   "metadata": {},
   "outputs": [
    {
     "data": {
      "text/plain": [
       "[[ZXZYXXIZIZXYXXYXXZII, 0.785],\n",
       " [YZIIIYYXZYYIYIXXYZXY, -0.785, YZYXYZZIIYXYIZXZYZZX, -0.785],\n",
       " [YZIZXIIIYXYZXYIIZXIZ, 0.785,\n",
       "  ZIYYIXYYXZZXZXXIIZZY, 0.785,\n",
       "  ZIYYIZZYYYYYIIYIYYXZ, 0.785],\n",
       " [YXYIIXIIZYZZYXIXIZIY, -0.785],\n",
       " [IYIXYYZIZIYXYYXYYIZZ, 0.785, XXXYIYZIXIYZIYIYIXXX, 0.785],\n",
       " [YXYIIXIIZYZZYXIXIZIY, 0.785, ZIXIZIIIIXYXZYXIXIYX, -0.785],\n",
       " [IIYYZZZIYZZXXXXZXYZY, -0.785, IYIXYYZIZIYXYYXYYIZZ, -0.785],\n",
       " [YZYXYZZIIYXYIZXZYZZX, 0.785, ZIZYIZZIYYXIYZIZIYXZ, 0.785],\n",
       " [IYIXYYZIZIYXYYXYYIZZ, -0.785],\n",
       " [YXIXYIXXIYIXIYIZIZYX, 0.785, YXIYZIYIYIXXIXYYZIXX, -0.785],\n",
       " [IYZZXXIYXZYYXIYYXYIX, 0.785, ZIIIZYXYZIIIYIIZXXII, -0.785],\n",
       " [YXIYZIYIYIXXIXYYZIXX, 0.785, ZZZZZZZZZZZZZZZZZZZZ, -0.785]]"
      ]
     },
     "execution_count": 8,
     "metadata": {},
     "output_type": "execute_result"
    }
   ],
   "source": [
    "m"
   ]
  },
  {
   "cell_type": "code",
   "execution_count": 9,
   "id": "8064204f",
   "metadata": {},
   "outputs": [
    {
     "data": {
      "text/plain": [
       "[[ZXZYXXIZIZXYXXYXXZII, 0.785,\n",
       "  ZXXZZIXYZZYIZYYZXZYZ, 0.785,\n",
       "  ZXXZZIXYZZYIZYYZXZYZ, -0.785],\n",
       " [YZIIIYYXZYYIYIXXYZXY, -0.785, YZYXYZZIIYXYIZXZYZZX, -0.785],\n",
       " [YZIZXIIIYXYZXYIIZXIZ, 0.785,\n",
       "  ZIYYIXYYXZZXZXXIIZZY, 0.785,\n",
       "  ZIYYIZZYYYYYIIYIYYXZ, 0.785],\n",
       " [YXYIIXIIZYZZYXIXIZIY, -0.785,\n",
       "  ZYZZYXIIXYZXIXXXYYYI, 0.785,\n",
       "  ZYZZYXIIXYZXIXXXYYYI, -0.785],\n",
       " [IYIXYYZIZIYXYYXYYIZZ, 0.785, XXXYIYZIXIYZIYIYIXXX, 0.785],\n",
       " [YXYIIXIIZYZZYXIXIZIY, 0.785, ZIXIZIIIIXYXZYXIXIYX, -0.785],\n",
       " [IIYYZZZIYZZXXXXZXYZY, -0.785, IYIXYYZIZIYXYYXYYIZZ, -0.785],\n",
       " [YZYXYZZIIYXYIZXZYZZX, 0.785, ZIZYIZZIYYXIYZIZIYXZ, 0.785],\n",
       " [IYIXYYZIZIYXYYXYYIZZ, -0.785,\n",
       "  IYIYZYIXXYZXYXZZXZIZ, 0.785,\n",
       "  IYIYZYIXXYZXYXZZXZIZ, -0.785],\n",
       " [YXIXYIXXIYIXIYIZIZYX, 0.785, YXIYZIYIYIXXIXYYZIXX, -0.785],\n",
       " [IYZZXXIYXZYYXIYYXYIX, 0.785, ZIIIZYXYZIIIYIIZXXII, -0.785],\n",
       " [YXIYZIYIYIXXIXYYZIXX, 0.785, ZZZZZZZZZZZZZZZZZZZZ, -0.785]]"
      ]
     },
     "execution_count": 9,
     "metadata": {},
     "output_type": "execute_result"
    }
   ],
   "source": [
    "attempt_mcr_retry(non_clifford)"
   ]
  },
  {
   "cell_type": "code",
   "execution_count": null,
   "id": "1aba4832",
   "metadata": {},
   "outputs": [],
   "source": []
  },
  {
   "cell_type": "code",
   "execution_count": 10,
   "id": "79521b7d",
   "metadata": {},
   "outputs": [
    {
     "data": {
      "text/plain": [
       "22"
      ]
     },
     "execution_count": 10,
     "metadata": {},
     "output_type": "execute_result"
    }
   ],
   "source": [
    "c, d = full_optimization(non_clifford)\n",
    "len(d)"
   ]
  },
  {
   "cell_type": "code",
   "execution_count": 11,
   "id": "ae1bb1f9",
   "metadata": {},
   "outputs": [
    {
     "data": {
      "text/plain": [
       "509"
      ]
     },
     "execution_count": 11,
     "metadata": {},
     "output_type": "execute_result"
    }
   ],
   "source": [
    "m = grouping(non_clifford)\n",
    "m[4] += [\n",
    "    PauliBit(\"IIYYZZZIYZZXXXXZXYZY\", np.pi / 4),\n",
    "    PauliBit(\"IIYYZZZIYZZXXXXZXYZY\", -np.pi / 4),\n",
    "]\n",
    "m\n",
    "e,f = full_optimization(m)\n",
    "len(e)"
   ]
  },
  {
   "cell_type": "code",
   "execution_count": 12,
   "id": "950c88ea",
   "metadata": {},
   "outputs": [],
   "source": [
    "from optimizer import attempt_mcr_retry\n",
    "# a = attempt_mcr_retry(non_clifford)\n",
    "# len(sum(a, []))"
   ]
  },
  {
   "cell_type": "code",
   "execution_count": 13,
   "id": "33bd10b6",
   "metadata": {},
   "outputs": [
    {
     "data": {
      "text/plain": [
       "0"
      ]
     },
     "execution_count": 13,
     "metadata": {},
     "output_type": "execute_result"
    }
   ],
   "source": [
    "len(full_optimization(m)[1])"
   ]
  },
  {
   "cell_type": "code",
   "execution_count": 14,
   "id": "68b66307",
   "metadata": {},
   "outputs": [],
   "source": [
    "# mcr_swap(a, with_mcr_index=True)"
   ]
  },
  {
   "cell_type": "code",
   "execution_count": 15,
   "id": "7e25344a",
   "metadata": {},
   "outputs": [
    {
     "name": "stdout",
     "output_type": "stream",
     "text": [
      "🎉 Optimization success in iteration 1: 4796 → 3170\n",
      "🎉 Optimization success in iteration 2: 3170 → 1006\n",
      "🎉 Optimization success in iteration 3: 1006 → 482\n",
      "🎉 Optimization success in iteration 4: 482 → 210\n",
      "🎉 Optimization success in iteration 5: 210 → 76\n",
      "🎉 Optimization success in iteration 6: 76 → 0\n"
     ]
    },
    {
     "data": {
      "text/plain": [
       "0"
      ]
     },
     "execution_count": 15,
     "metadata": {},
     "output_type": "execute_result"
    }
   ],
   "source": [
    "from perform_mcr import optimize_data_loop\n",
    "a, b = optimize_data_loop(data)\n",
    "len(b)"
   ]
  },
  {
   "cell_type": "code",
   "execution_count": null,
   "id": "bc45189b",
   "metadata": {},
   "outputs": [],
   "source": []
  },
  {
   "cell_type": "code",
   "execution_count": null,
   "id": "016725d8",
   "metadata": {},
   "outputs": [],
   "source": []
  },
  {
   "cell_type": "code",
   "execution_count": null,
   "id": "ae0adec3",
   "metadata": {},
   "outputs": [],
   "source": []
  },
  {
   "cell_type": "code",
   "execution_count": null,
   "id": "9d76c3e0",
   "metadata": {},
   "outputs": [],
   "source": []
  },
  {
   "cell_type": "code",
   "execution_count": 14,
   "id": "9c939637",
   "metadata": {},
   "outputs": [],
   "source": [
    "# equiv([[],data],[clifford, non_clifford])"
   ]
  },
  {
   "cell_type": "code",
   "execution_count": null,
   "id": "f3d6ba7f",
   "metadata": {},
   "outputs": [],
   "source": []
  },
  {
   "cell_type": "code",
   "execution_count": null,
   "id": "08ac2366",
   "metadata": {},
   "outputs": [],
   "source": []
  },
  {
   "cell_type": "code",
   "execution_count": null,
   "id": "fa891b32",
   "metadata": {},
   "outputs": [],
   "source": []
  },
  {
   "cell_type": "code",
   "execution_count": 15,
   "id": "b47c2943",
   "metadata": {},
   "outputs": [
    {
     "data": {
      "text/plain": [
       "False"
      ]
     },
     "execution_count": 15,
     "metadata": {},
     "output_type": "execute_result"
    }
   ],
   "source": [
    "# itertools.permutations で全列挙は計算量が膨大なので、numpy配列でインデックスの順列を生成し、必要な部分だけ計算することで高速化します。\n",
    "seq_a = [\n",
    "    PauliBit(\"ix\", -np.pi / 4),\n",
    "    PauliBit(\"zi\", -np.pi / 4),\n",
    "    PauliBit(\"xy\", np.pi / 4),\n",
    "    PauliBit(\"zy\", -np.pi / 4),\n",
    "    PauliBit(\"yy\", -np.pi / 4),\n",
    "    PauliBit(\"zz\", -np.pi / 4),\n",
    "    PauliBit(\"ix\", np.pi / 4),\n",
    "    PauliBit(\"xi\", np.pi / 4),\n",
    "    PauliBit(\"yz\", -np.pi / 4),\n",
    "    PauliBit(\"xz\", -np.pi / 4),\n",
    "    PauliBit(\"zz\", -np.pi / 4),\n",
    "]\n",
    "seq_b = [PauliBit(\"yx\", -np.pi / 4)]\n",
    "equiv([[], seq_a], [[],seq_b])"
   ]
  },
  {
   "cell_type": "code",
   "execution_count": 16,
   "id": "b6d4841c",
   "metadata": {},
   "outputs": [],
   "source": [
    "A = [\n",
    "    PauliBit(\"IZ\", -np.pi / 4),\n",
    "    PauliBit(\"ZY\", np.pi / 4),\n",
    "    PauliBit(\"XY\", -np.pi / 4),\n",
    "    PauliBit(\"IZ\", -np.pi / 4),\n",
    "    PauliBit(\"XZ\", -np.pi / 4),\n",
    "    PauliBit(\"IY\", -np.pi / 4),\n",
    "    PauliBit(\"YZ\", np.pi / 4),\n",
    "    PauliBit(\"IX\", -np.pi / 4),\n",
    "    PauliBit(\"ZI\", np.pi / 4),\n",
    "    PauliBit(\"YY\", -np.pi / 4),\n",
    "    PauliBit(\"XI\", -np.pi / 4),\n",
    "    PauliBit(\"ZI\", -np.pi / 4),\n",
    "    PauliBit(\"ZZ\", np.pi / 4),\n",
    "    PauliBit(\"XI\", np.pi / 4),\n",
    "    PauliBit(\"ZX\", np.pi / 4),\n",
    "    PauliBit(\"XX\", np.pi / 4),\n",
    "]"
   ]
  },
  {
   "cell_type": "code",
   "execution_count": 17,
   "id": "ba506a64",
   "metadata": {},
   "outputs": [
    {
     "data": {
      "text/plain": [
       "[[IZ, -0.785],\n",
       " [ZY, 0.785],\n",
       " [XY, -0.785],\n",
       " [IZ, -0.785, XZ, -0.785],\n",
       " [IY, -0.785],\n",
       " [YZ, 0.785],\n",
       " [IX, -0.785, ZI, 0.785],\n",
       " [YY, -0.785],\n",
       " [XI, -0.785, XZ, 0.785, XZ, -0.785],\n",
       " [ZI, -0.785, ZZ, 0.785],\n",
       " [XI, 0.785],\n",
       " [ZX, 0.785],\n",
       " [XX, 0.785]]"
      ]
     },
     "execution_count": 17,
     "metadata": {},
     "output_type": "execute_result"
    }
   ],
   "source": [
    "m = grouping(A)\n",
    "# m[8] += [PauliBit(\"XZ\", -np.pi / 4)]\n",
    "# m.insert(8, [PauliBit(\"XZ\", np.pi / 4)])\n",
    "m[8] += [PauliBit(\"XZ\", np.pi / 4), PauliBit(\"XZ\", -np.pi / 4)]\n",
    "# m.insert(8, [PauliBit(\"XZ\", -np.pi / 4)])\n",
    "m"
   ]
  },
  {
   "cell_type": "code",
   "execution_count": 18,
   "id": "31adc16e",
   "metadata": {},
   "outputs": [
    {
     "name": "stdout",
     "output_type": "stream",
     "text": [
      "🎉 Optimization success in iteration 1: 19 → 18\n",
      "🎉 Optimization success in iteration 2: 18 → 16\n",
      "🔍 No optimization in iteration 3: 16 → 16\n",
      "🔍 No optimization in iteration 3: 16 → 16\n",
      "🔍 No optimization in iteration 3: 16 → 16\n"
     ]
    }
   ],
   "source": [
    "# ini = m.copy()\n",
    "seq = mcr_swap(m)\n",
    "clifford_lst, optimized_data = optimize_data_loop(\n",
    "    seq, show_opt_log=True, max_attempts=3\n",
    ")\n"
   ]
  },
  {
   "cell_type": "code",
   "execution_count": 19,
   "id": "59cb2310",
   "metadata": {},
   "outputs": [
    {
     "name": "stdout",
     "output_type": "stream",
     "text": [
      "🎉 Optimization success in iteration 1: 19 → 18\n",
      "🎉 Optimization success in iteration 2: 18 → 16\n",
      "🔍 No optimization in iteration 3: 16 → 16\n",
      "🔍 No optimization in iteration 3: 16 → 16\n",
      "🔍 No optimization in iteration 3: 16 → 16\n"
     ]
    }
   ],
   "source": [
    "clifford_lst, optimized_data = optimize_data_loop(\n",
    "    seq, show_opt_log=True, max_attempts=3\n",
    ")\n"
   ]
  },
  {
   "cell_type": "code",
   "execution_count": 20,
   "id": "570a8cac",
   "metadata": {},
   "outputs": [
    {
     "data": {
      "text/plain": [
       "[IZ, -0.785,\n",
       " ZY, 0.785,\n",
       " XY, -0.785,\n",
       " IZ, -0.785,\n",
       " XZ, -0.785,\n",
       " IY, -0.785,\n",
       " YZ, 0.785,\n",
       " IX, -0.785,\n",
       " ZI, 0.785,\n",
       " YY, -0.785,\n",
       " XI, -0.785,\n",
       " ZI, -0.785,\n",
       " ZZ, 0.785,\n",
       " XI, 0.785,\n",
       " ZX, 0.785,\n",
       " XX, 0.785]"
      ]
     },
     "execution_count": 20,
     "metadata": {},
     "output_type": "execute_result"
    }
   ],
   "source": [
    "optimized_data"
   ]
  },
  {
   "cell_type": "code",
   "execution_count": 21,
   "id": "afc30e1c",
   "metadata": {},
   "outputs": [
    {
     "name": "stdout",
     "output_type": "stream",
     "text": [
      "find_nontrivial_swap called\n",
      "3layer swap only\n",
      "left_bits: XY, -0.785, right_bits: IY, -0.785\n",
      "solution:  [[[IY, -0.785], [IZ, -0.785, XZ, -0.785], [XY, -0.785]]]\n",
      "at index  2\n",
      "After 3-layer swap: [IZ, -0.785, ZY, 0.785, IY, -0.785, IZ, -0.785, XZ, -0.785, XY, -0.785, YZ, 0.785, IX, -0.785, ZI, 0.785, YY, -0.785, XI, -0.785, ZI, -0.785, ZZ, 0.785, XI, 0.785, ZX, 0.785, XX, 0.785]\n"
     ]
    },
    {
     "data": {
      "text/plain": [
       "([IZ, -0.785,\n",
       "  ZY, 0.785,\n",
       "  IY, -0.785,\n",
       "  IZ, -0.785,\n",
       "  XZ, -0.785,\n",
       "  XY, -0.785,\n",
       "  YZ, 0.785,\n",
       "  IX, -0.785,\n",
       "  ZI, 0.785,\n",
       "  YY, -0.785,\n",
       "  XI, -0.785,\n",
       "  ZI, -0.785,\n",
       "  ZZ, 0.785,\n",
       "  XI, 0.785,\n",
       "  ZX, 0.785,\n",
       "  XX, 0.785],\n",
       " {2})"
      ]
     },
     "execution_count": 21,
     "metadata": {},
     "output_type": "execute_result"
    }
   ],
   "source": [
    "three_layer_nontrivial_swap(grouping(A),with_mcr_index=True)"
   ]
  },
  {
   "cell_type": "code",
   "execution_count": 22,
   "id": "d4005ac0",
   "metadata": {},
   "outputs": [
    {
     "name": "stdout",
     "output_type": "stream",
     "text": [
      "find_nontrivial_swap called\n",
      "3layer swap only\n",
      "left_bits: XY, -0.785, right_bits: IY, -0.785\n",
      "solution:  [[[IY, -0.785], [IZ, -0.785, XZ, -0.785], [XY, -0.785]]]\n",
      "at index  2\n",
      "After 3-layer swap: [IZ, -0.785, ZY, 0.785, IY, -0.785, IZ, -0.785, XZ, -0.785, XY, -0.785, YZ, 0.785, IX, -0.785, ZI, 0.785, YY, -0.785, XI, -0.785, ZI, -0.785, ZZ, 0.785, XI, 0.785, ZX, 0.785, XX, 0.785]\n",
      "🔍 No optimization in iteration 1: 16 → 16\n"
     ]
    },
    {
     "data": {
      "text/plain": [
       "[[IZ, -0.785],\n",
       " [IY, -0.785, ZY, 0.785],\n",
       " [IZ, -0.785, XZ, -0.785],\n",
       " [IX, -0.785, ZI, 0.785],\n",
       " [XY, -0.785, YZ, 0.785],\n",
       " [YY, -0.785],\n",
       " [XI, -0.785],\n",
       " [ZI, -0.785, ZZ, 0.785],\n",
       " [XI, 0.785],\n",
       " [ZX, 0.785],\n",
       " [XX, 0.785]]"
      ]
     },
     "execution_count": 22,
     "metadata": {},
     "output_type": "execute_result"
    }
   ],
   "source": [
    "p =grouping(optimize_data_loop(\n",
    "    three_layer_nontrivial_swap(grouping(A)), show_opt_log=True\n",
    ")[1])\n",
    "p"
   ]
  },
  {
   "cell_type": "code",
   "execution_count": 23,
   "id": "d27b390a",
   "metadata": {},
   "outputs": [],
   "source": [
    "seq_a = [\n",
    "    PauliBit(\"ix\", -np.pi / 4),\n",
    "    PauliBit(\"xy\", np.pi / 4),\n",
    "    PauliBit(\"zy\", -np.pi / 4),\n",
    "    PauliBit(\"yy\", -np.pi / 4),\n",
    "    PauliBit(\"zz\", -np.pi / 4),\n",
    "    PauliBit(\"ix\", np.pi / 4),\n",
    "    PauliBit(\"xi\", np.pi / 4),\n",
    "    PauliBit(\"yz\", -np.pi / 4),\n",
    "    PauliBit(\"xz\", -np.pi / 4),\n",
    "    PauliBit(\"zz\", -np.pi / 4),\n",
    "]\n",
    "\n",
    "# seq_b = [\n",
    "#     PauliBit(\"XZ\", np.pi / 4),\n",
    "#     PauliBit(\"ZI\", -np.pi / 4),\n",
    "#     PauliBit(\"ZZ\", np.pi / 4),\n",
    "#     PauliBit(\"XZ\", -np.pi / 4),\n",
    "# ]\n",
    "# equiv([[], seq_a], [[], seq_b])"
   ]
  },
  {
   "cell_type": "code",
   "execution_count": 24,
   "id": "9181b572",
   "metadata": {},
   "outputs": [
    {
     "data": {
      "text/plain": [
       "[[IX, -0.785],\n",
       " [XY, 0.785],\n",
       " [ZY, -0.785],\n",
       " [YY, -0.785, ZZ, -0.785],\n",
       " [IX, 0.785, XI, 0.785],\n",
       " [YZ, -0.785],\n",
       " [XZ, -0.785],\n",
       " [ZZ, -0.785]]"
      ]
     },
     "execution_count": 24,
     "metadata": {},
     "output_type": "execute_result"
    }
   ],
   "source": [
    "m = grouping(seq_a)\n",
    "m"
   ]
  },
  {
   "cell_type": "code",
   "execution_count": 25,
   "id": "98ce9b37",
   "metadata": {},
   "outputs": [
    {
     "data": {
      "text/plain": [
       "[IX, -0.785,\n",
       " XY, 0.785,\n",
       " YZ, -0.785,\n",
       " ZY, -1.571,\n",
       " YY, -0.785,\n",
       " ZZ, -0.785,\n",
       " ZY, 1.571,\n",
       " IX, 0.785,\n",
       " XI, 0.785,\n",
       " ZY, -0.785,\n",
       " YZ, 0.785,\n",
       " YZ, -0.785,\n",
       " XZ, -0.785,\n",
       " ZZ, -0.785]"
      ]
     },
     "execution_count": 25,
     "metadata": {},
     "output_type": "execute_result"
    }
   ],
   "source": [
    "\n",
    "m[2] += [PauliBit(\"YZ\", np.pi / 4), PauliBit(\"YZ\", -np.pi / 4)]\n",
    "# optimize_data_loop(mcr_swap(m))\n",
    "mcr_swap(m)"
   ]
  },
  {
   "cell_type": "code",
   "execution_count": null,
   "id": "0200da64",
   "metadata": {},
   "outputs": [],
   "source": []
  }
 ],
 "metadata": {
  "kernelspec": {
   "display_name": ".venv",
   "language": "python",
   "name": "python3"
  },
  "language_info": {
   "codemirror_mode": {
    "name": "ipython",
    "version": 3
   },
   "file_extension": ".py",
   "mimetype": "text/x-python",
   "name": "python",
   "nbconvert_exporter": "python",
   "pygments_lexer": "ipython3",
   "version": "3.11.12"
  }
 },
 "nbformat": 4,
 "nbformat_minor": 5
}
