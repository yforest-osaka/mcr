{
 "cells": [
  {
   "cell_type": "code",
   "execution_count": 1,
   "id": "c65aca26",
   "metadata": {},
   "outputs": [],
   "source": [
    "from mcr.gate_apply import PauliBit\n",
    "from mcr.mcr_optimize import find_mcr\n",
    "from mcr.gate_apply import grouping, loop_optimization\n",
    "from mcr.equiv_check import pauli_bit_equivalence_check, equivalence_check_via_mqt_qcec\n",
    "from qulacs import QuantumCircuit\n",
    "from mcr.gate_apply import set_clifford_to_qulacs\n",
    "from mcr.mcr_optimize import find_nontrivial_swap"
   ]
  },
  {
   "cell_type": "code",
   "execution_count": 4,
   "id": "53c8a38c",
   "metadata": {},
   "outputs": [],
   "source": [
    "import numpy as np\n",
    "import pickle\n",
    "filetype = \"seq\"  # \"small\" or \"seq\"\n",
    "# with open(f\"unopt_{filetype}.pickle\", \"rb\") as f:\n",
    "with open(f\"unopt_3.pickle\", \"rb\") as f:\n",
    "    seq = pickle.load(f)\n",
    "data = []\n",
    "for elem in seq:\n",
    "    sgn = str(elem[1])[0]\n",
    "    pauli_str = str(elem[1])[1:]\n",
    "    if sgn == \"+\":\n",
    "        data.append(PauliBit(pauli_str, np.pi/4))\n",
    "    else:\n",
    "        assert sgn == \"-\", f\"Unexpected sign: {sgn}\"\n",
    "        data.append(PauliBit(pauli_str, -np.pi/4))"
   ]
  },
  {
   "cell_type": "code",
   "execution_count": 3,
   "id": "526408ee",
   "metadata": {},
   "outputs": [],
   "source": [
    "import pickle\n",
    "def load_data_from_pickle(filepath: str, nqubits: int) -> list:\n",
    "    \"\"\"pickle形式のファイルを読み込む\n",
    "\n",
    "    Args:\n",
    "        filepath (str): pickle形式のファイルパス\n",
    "\n",
    "    Returns:\n",
    "        list: 読み込んだデータのリスト\n",
    "    \"\"\"\n",
    "    with open(filepath, mode=\"br\") as f:\n",
    "        data = pickle.load(f)\n",
    "    pauli_bit_sequences = []\n",
    "    for elem in data:\n",
    "        initial_pauli_str, theta, qubit_indices = elem\n",
    "        pauli_str = [\"I\"] * nqubits\n",
    "        for pauli, qubit_idx in zip(initial_pauli_str, qubit_indices):\n",
    "            pauli_str[qubit_idx] = pauli\n",
    "        pauli_bit = PauliBit(pauli_str, theta)\n",
    "        pauli_bit_sequences.append(pauli_bit)\n",
    "    return pauli_bit_sequences\n",
    "nqubits = 6\n",
    "data = load_data_from_pickle(\"te_pai_data.pickle\", nqubits=nqubits)"
   ]
  },
  {
   "cell_type": "code",
   "execution_count": 4,
   "id": "7888fe42",
   "metadata": {},
   "outputs": [
    {
     "name": "stdout",
     "output_type": "stream",
     "text": [
      "========================================\n",
      "3-iteration optimization applied!\n",
      "optimization result: 2341 -> 1912\n",
      "========================================\n"
     ]
    }
   ],
   "source": [
    "_, non_clifford_rots = loop_optimization(data)\n",
    "groups = grouping(non_clifford_rots)"
   ]
  },
  {
   "cell_type": "code",
   "execution_count": 5,
   "id": "927f04f3",
   "metadata": {},
   "outputs": [],
   "source": [
    "# groups"
   ]
  },
  {
   "cell_type": "code",
   "execution_count": 6,
   "id": "d38657f1",
   "metadata": {},
   "outputs": [],
   "source": [
    "# 何でもかんでも入れ替えれば良いという訳でもなさそう\n",
    "# Q. 入れ替えられる候補がN通りあったとして、2^N通りのパターンを調べ、一番良いものを選ぶというような手法を取ることはできる？\n",
    "def mcr_swap(pauli_bit_groups):\n",
    "    removed_group_indices = set()\n",
    "    counter = 0\n",
    "    for i in range(len(pauli_bit_groups) - 1):\n",
    "        if i not in removed_group_indices:\n",
    "            left_data = pauli_bit_groups[i]\n",
    "            right_data = pauli_bit_groups[i + 1]\n",
    "            sols = find_mcr(left_data, right_data)\n",
    "            if sols:\n",
    "                for gates in sols:\n",
    "                    gate_a, gate_b, gate_c, gate_d = [gate[1:] for gate in gates]\n",
    "                    print(f\"MCR swap!: {i}, {i + 1} -> {gate_a}, {gate_b}, {gate_c}, {gate_d}\")\n",
    "                    print(f'left_data: {left_data}')\n",
    "                    print(f'right_data: {right_data}')\n",
    "                    left_data_for_swap, reduced_left_data = [], []\n",
    "                    for ele in left_data:\n",
    "                        if ele.get_pauli_str() in [gate_a, gate_b]:\n",
    "                            left_data_for_swap.append(ele)\n",
    "                        else:\n",
    "                            reduced_left_data.append(ele)\n",
    "                    assert len(left_data_for_swap) == 2, (\n",
    "                        f\"Expected 2 elements for swap, got {len(left_data_for_swap)}\"\n",
    "                    )\n",
    "\n",
    "                    right_data_for_swap, reduced_right_data = [], []\n",
    "                    for ele in right_data:\n",
    "                        if ele.get_pauli_str() in [gate_c, gate_d]:\n",
    "                            right_data_for_swap.append(ele)\n",
    "                        else:\n",
    "                            reduced_right_data.append(ele)\n",
    "\n",
    "                    assert len(right_data_for_swap) == 2, (\n",
    "                        f\"Expected 2 elements for swap, got {len(right_data_for_swap)}\"\n",
    "                    )\n",
    "                    pauli_bit_groups[i] = reduced_left_data + right_data_for_swap\n",
    "                    pauli_bit_groups[i + 1] = left_data_for_swap + reduced_right_data\n",
    "                    removed_group_indices.add(i + 1)\n",
    "                    # removed_group_indices.add(i + 2)\n",
    "                    counter += 1\n",
    "                    break\n",
    "    new_data = [ele for group in pauli_bit_groups for ele in group]\n",
    "    # print(f\"Total MCR swaps made: {counter}\")\n",
    "    return new_data"
   ]
  },
  {
   "cell_type": "code",
   "execution_count": 7,
   "id": "17e08e81",
   "metadata": {},
   "outputs": [
    {
     "name": "stdout",
     "output_type": "stream",
     "text": [
      "========================================\n",
      "3-iteration optimization applied!\n",
      "optimization result: 2341 -> 1912\n",
      "========================================\n",
      "MCR swap!: 70, 71 -> XIIIIX, YIIIIY, IIIIIZ, ZIIIII\n",
      "left_data: [PauliBit(-0.02454369260617026*IIIXXI), PauliBit(-0.02454369260617026*IYYIII), PauliBit(-0.02454369260617026*XIIIIX), PauliBit(-0.02454369260617026*YIIIIY), PauliBit(-0.02454369260617026*ZIIIIZ)]\n",
      "right_data: [PauliBit(-0.02454369260617026*IIIIIZ), PauliBit(-0.02454369260617026*IIIIZZ), PauliBit(-0.02454369260617026*IIIZII), PauliBit(-0.04908738521234052*ZIIIII), PauliBit(0.02454369260617026*ZZIIII)]\n",
      "MCR swap!: 204, 205 -> IIIIIZ, ZIIIII, XIIIIX, YIIIIY\n",
      "left_data: [PauliBit(-0.02454369260617026*IIIIIZ), PauliBit(-0.04908738521234052*IIIZII), PauliBit(-0.02454369260617026*IXXIII), PauliBit(-0.04908738521234052*IZZIII), PauliBit(-0.02454369260617026*ZIIIII)]\n",
      "right_data: [PauliBit(-0.02454369260617026*IIXXII), PauliBit(-0.04908738521234052*XIIIIX), PauliBit(-0.02454369260617026*YIIIIY)]\n",
      "========================================\n",
      "2-iteration optimization applied!\n",
      "optimization result: 1912 -> 1909\n",
      "========================================\n",
      "🎉 Successful optimization using MCR! 1912 -> 1909\n",
      "========================================\n",
      "1-iteration optimization applied!\n",
      "optimization result: 1909 -> 1909\n",
      "========================================\n"
     ]
    }
   ],
   "source": [
    "from mcr.gate_apply import synthesize_sequence\n",
    "def test_algorithm(pauli_bit_lst):\n",
    "    clifford_lst = []\n",
    "    clifford, data_for_optimization = loop_optimization(pauli_bit_lst)\n",
    "    clifford_lst.extend(clifford)\n",
    "    flag = True\n",
    "    length = len(data_for_optimization)\n",
    "    while flag:\n",
    "        groups = grouping(data_for_optimization)\n",
    "        new_data = mcr_swap(groups)\n",
    "        clifford, data_for_optimization = loop_optimization(new_data)\n",
    "        if len(data_for_optimization) >= length:\n",
    "            flag = False\n",
    "            clifford_lst.extend(clifford)\n",
    "        else:\n",
    "            print(f\"🎉 Successful optimization using MCR! {length} -> {len(data_for_optimization)}\")\n",
    "            length = len(data_for_optimization)\n",
    "            clifford_lst.extend(clifford)\n",
    "    return clifford_lst, data_for_optimization\n",
    "clifford_lst, optimized_data = test_algorithm(data)"
   ]
  },
  {
   "cell_type": "code",
   "execution_count": 10,
   "id": "b9b78dad",
   "metadata": {},
   "outputs": [
    {
     "data": {
      "text/plain": [
       "False"
      ]
     },
     "execution_count": 10,
     "metadata": {},
     "output_type": "execute_result"
    }
   ],
   "source": [
    "import numpy as np\n",
    "from itertools import permutations\n",
    "seq_c = [\n",
    "]\n",
    "seq_a = [\n",
    "    PauliBit(\"ZI\", np.pi / 4),\n",
    "    PauliBit(\"YI\", np.pi / 4),\n",
    "    PauliBit(\"YZ\", np.pi / 4),\n",
    "    PauliBit(\"XI\", np.pi / 4),\n",
    "]\n",
    "seq_b = [\n",
    "    PauliBit(\"ZZ\", np.pi / 4),\n",
    "    PauliBit(\"YI\", np.pi / 4),\n",
    "    PauliBit(\"YZ\", np.pi / 4),\n",
    "    PauliBit(\"ZI\", np.pi / 4),\n",
    "]  \n",
    "pauli_bit_equivalence_check(seq_c + seq_a, seq_b)\n",
    "# for elem in permutations(seq_a):\n",
    "#     if pauli_bit_equivalence_check(seq_c + list(elem), seq_b):\n",
    "#         # print(\"Equivalent!\")\n",
    "#         for e in elem:\n",
    "#             print(e.get_pauli_str(), np.round(e.get_angle(),2))\n",
    "#         print('----'*10)"
   ]
  },
  {
   "cell_type": "code",
   "execution_count": 13,
   "id": "4a89f55a",
   "metadata": {},
   "outputs": [
    {
     "name": "stdout",
     "output_type": "stream",
     "text": [
      "None\n"
     ]
    }
   ],
   "source": [
    "tmp = grouping(seq_a)\n",
    "res = find_nontrivial_swap(tmp[0], tmp[1], tmp[2])\n",
    "if res:\n",
    "    pauli_bit_equivalence_check(seq_a, sum(res, []))\n",
    "else:\n",
    "    print(res)"
   ]
  },
  {
   "cell_type": "code",
   "execution_count": null,
   "id": "0bf89fe2",
   "metadata": {},
   "outputs": [],
   "source": [
    "seq_a = [\n",
    "    PauliBit(\"ZI\", -np.pi / 2),\n",
    "    PauliBit(\"XZ\", -np.pi / 2),\n",
    "    PauliBit(\"YZ\", np.pi / 2),\n",
    "    PauliBit(\"XZ\", np.pi / 2),\n",
    "]"
   ]
  },
  {
   "cell_type": "code",
   "execution_count": 18,
   "id": "e4f61591",
   "metadata": {},
   "outputs": [
    {
     "data": {
      "text/plain": [
       "-1.0"
      ]
     },
     "execution_count": 18,
     "metadata": {},
     "output_type": "execute_result"
    }
   ],
   "source": []
  },
  {
   "cell_type": "code",
   "execution_count": 46,
   "id": "756c8564",
   "metadata": {},
   "outputs": [
    {
     "name": "stdout",
     "output_type": "stream",
     "text": [
      "Input circuit matrix: [[1.+0.j 0.+0.j 0.+0.j 0.+0.j]\n",
      " [0.+0.j 1.+0.j 0.+0.j 0.+0.j]\n",
      " [0.+0.j 0.+0.j 1.+0.j 0.+0.j]\n",
      " [0.+0.j 0.+0.j 0.+0.j 1.+0.j]]\n"
     ]
    }
   ],
   "source": [
    "from qulacs.circuit import QuantumCircuitOptimizer as QCO\n",
    "\n",
    "circuit_output = QuantumCircuit(2)\n",
    "for elem in seq_a:\n",
    "    circuit_output.merge_circuit(elem.convert_into_qulacs())\n",
    "circuit_in = circuit_output.copy()\n",
    "QCO().optimize(circuit_in, 2)\n",
    "mat = circuit_in.get_gate(0).get_matrix()\n",
    "print(f\"Input circuit matrix: {mat}\")"
   ]
  },
  {
   "cell_type": "code",
   "execution_count": 8,
   "id": "eb8c8e0a",
   "metadata": {},
   "outputs": [
    {
     "ename": "RuntimeError",
     "evalue": "Error: QuatnumCircuit::add_gate(QuantumGateBase*): gate must be applied to qubits of which the indices are smaller than qubit_count",
     "output_type": "error",
     "traceback": [
      "\u001b[31m---------------------------------------------------------------------------\u001b[39m",
      "\u001b[31mRuntimeError\u001b[39m                              Traceback (most recent call last)",
      "\u001b[36mCell\u001b[39m\u001b[36m \u001b[39m\u001b[32mIn[8]\u001b[39m\u001b[32m, line 4\u001b[39m\n\u001b[32m      2\u001b[39m circuit_input = QuantumCircuit(nqubits)\n\u001b[32m      3\u001b[39m \u001b[38;5;28;01mfor\u001b[39;00m elem \u001b[38;5;129;01min\u001b[39;00m data:\n\u001b[32m----> \u001b[39m\u001b[32m4\u001b[39m     \u001b[43mcircuit_input\u001b[49m\u001b[43m.\u001b[49m\u001b[43mmerge_circuit\u001b[49m\u001b[43m(\u001b[49m\u001b[43melem\u001b[49m\u001b[43m.\u001b[49m\u001b[43mconvert_into_qulacs\u001b[49m\u001b[43m(\u001b[49m\u001b[43m)\u001b[49m\u001b[43m)\u001b[49m\n\u001b[32m      6\u001b[39m circuit_output = QuantumCircuit(nqubits)\n\u001b[32m      7\u001b[39m circuit_output = set_clifford_to_qulacs(circuit_output, clifford_lst)\n",
      "\u001b[31mRuntimeError\u001b[39m: Error: QuatnumCircuit::add_gate(QuantumGateBase*): gate must be applied to qubits of which the indices are smaller than qubit_count"
     ]
    }
   ],
   "source": [
    "nqubits = 3\n",
    "circuit_input = QuantumCircuit(nqubits)\n",
    "for elem in data:\n",
    "    circuit_input.merge_circuit(elem.convert_into_qulacs())\n",
    "\n",
    "circuit_output = QuantumCircuit(nqubits)\n",
    "circuit_output = set_clifford_to_qulacs(circuit_output, clifford_lst)\n",
    "for elem in optimized_data:\n",
    "    circuit_output.merge_circuit(elem.convert_into_qulacs())\n",
    "\n",
    "equivalence_check_via_mqt_qcec(circuit_input, circuit_output, exclude_zx_checker=True)"
   ]
  },
  {
   "cell_type": "code",
   "execution_count": null,
   "id": "a05b06e8",
   "metadata": {},
   "outputs": [
    {
     "name": "stdout",
     "output_type": "stream",
     "text": [
      "MCR swap!: 1, 2 -> IIY, YXY, IIX, YXX\n",
      "left_data: [PauliBit(-0.7853981633974483*IIY), PauliBit(0.7853981633974483*YXY)]\n",
      "right_data: [PauliBit(-0.7853981633974483*IIX), PauliBit(-0.7853981633974483*YXX)]\n",
      "MCR swap!: 3, 4 -> IIY, YXY, IIX, YXX\n",
      "left_data: [PauliBit(0.7853981633974483*IIY), PauliBit(-0.7853981633974483*YXY)]\n",
      "right_data: [PauliBit(0.7853981633974483*IIX), PauliBit(0.7853981633974483*YXX)]\n"
     ]
    },
    {
     "data": {
      "text/plain": [
       "[PauliBit(0.7853981633974483*ZZZ),\n",
       " PauliBit(-0.7853981633974483*IIX),\n",
       " PauliBit(-0.7853981633974483*YXX),\n",
       " PauliBit(-0.7853981633974483*IIY),\n",
       " PauliBit(0.7853981633974483*YXY),\n",
       " PauliBit(0.7853981633974483*IIX),\n",
       " PauliBit(0.7853981633974483*YXX),\n",
       " PauliBit(0.7853981633974483*IIY),\n",
       " PauliBit(-0.7853981633974483*YXY)]"
      ]
     },
     "execution_count": 20,
     "metadata": {},
     "output_type": "execute_result"
    }
   ],
   "source": [
    "mcr_swap(grouping(optimized_data))"
   ]
  },
  {
   "cell_type": "code",
   "execution_count": null,
   "id": "219e37c6",
   "metadata": {},
   "outputs": [
    {
     "data": {
      "text/plain": [
       "[[PauliBit(0.7853981633974483*ZZZ)],\n",
       " [PauliBit(-0.7853981633974483*IIY), PauliBit(0.7853981633974483*YXY)],\n",
       " [PauliBit(-0.7853981633974483*IIX), PauliBit(-0.7853981633974483*YXX)],\n",
       " [PauliBit(0.7853981633974483*IIY), PauliBit(-0.7853981633974483*YXY)],\n",
       " [PauliBit(0.7853981633974483*IIX), PauliBit(0.7853981633974483*YXX)]]"
      ]
     },
     "execution_count": 21,
     "metadata": {},
     "output_type": "execute_result"
    }
   ],
   "source": [
    "grouping(optimized_data)\n"
   ]
  },
  {
   "cell_type": "code",
   "execution_count": 7,
   "id": "b47c2943",
   "metadata": {},
   "outputs": [
    {
     "data": {
      "text/plain": [
       "[[PauliBit(0.7853981633974483*XI)],\n",
       " [PauliBit(-0.7853981633974483*YI), PauliBit(-0.7853981633974483*YZ)],\n",
       " [PauliBit(-0.7853981633974483*ZI), PauliBit(0.7853981633974483*ZZ)],\n",
       " [PauliBit(0.7853981633974483*XI), PauliBit(-0.7853981633974483*XZ)],\n",
       " [PauliBit(-0.7853981633974483*ZI)]]"
      ]
     },
     "execution_count": 7,
     "metadata": {},
     "output_type": "execute_result"
    }
   ],
   "source": [
    "import numpy as np\n",
    "from mcr.gate_apply import PauliBit\n",
    "from mcr.gate_apply import zhang_optimization, grouping, loop_optimization, set_clifford_to_qulacs\n",
    "from mcr.mcr_optimize import find_mcr, find_nontrivial_swap\n",
    "from mcr.equiv_check import equiv\n",
    "seq_a = [\n",
    "    PauliBit(\"XI\", np.pi / 4),\n",
    "    PauliBit(\"YI\", -np.pi / 4),\n",
    "    PauliBit(\"YZ\", -np.pi / 4),\n",
    "    PauliBit(\"ZI\", -np.pi / 4),\n",
    "    PauliBit(\"ZZ\", np.pi / 4),\n",
    "    PauliBit(\"XI\", np.pi / 4),\n",
    "    PauliBit(\"XZ\", -np.pi / 4),\n",
    "    PauliBit(\"ZI\", -np.pi / 4),\n",
    "]\n",
    "m = grouping(seq_a)\n",
    "m"
   ]
  },
  {
   "cell_type": "code",
   "execution_count": 9,
   "id": "5f3f0570",
   "metadata": {},
   "outputs": [
    {
     "data": {
      "text/plain": [
       "[]"
      ]
     },
     "execution_count": 9,
     "metadata": {},
     "output_type": "execute_result"
    }
   ],
   "source": [
    "find_mcr(m[2], m[3])\n"
   ]
  },
  {
   "cell_type": "code",
   "execution_count": 10,
   "id": "1c27d437",
   "metadata": {},
   "outputs": [
    {
     "data": {
      "text/plain": [
       "{1, 2, 3, 4, 6, 8, 9, 10}"
      ]
     },
     "execution_count": 10,
     "metadata": {},
     "output_type": "execute_result"
    }
   ],
   "source": [
    "{1,2,3,4,6,8,9,10}"
   ]
  },
  {
   "cell_type": "code",
   "execution_count": null,
   "id": "d16cc84c",
   "metadata": {},
   "outputs": [],
   "source": []
  }
 ],
 "metadata": {
  "kernelspec": {
   "display_name": ".venv",
   "language": "python",
   "name": "python3"
  },
  "language_info": {
   "codemirror_mode": {
    "name": "ipython",
    "version": 3
   },
   "file_extension": ".py",
   "mimetype": "text/x-python",
   "name": "python",
   "nbconvert_exporter": "python",
   "pygments_lexer": "ipython3",
   "version": "3.11.12"
  }
 },
 "nbformat": 4,
 "nbformat_minor": 5
}
