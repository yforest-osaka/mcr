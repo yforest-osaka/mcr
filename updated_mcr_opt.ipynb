{
 "cells": [
  {
   "cell_type": "code",
   "execution_count": 1,
   "id": "c65aca26",
   "metadata": {},
   "outputs": [],
   "source": [
    "\n",
    "import numpy as np\n",
    "from qulacs import QuantumCircuit\n",
    "from itertools import combinations\n",
    "from mcr.equiv_check import (\n",
    "    equivalence_check_via_mqt_qcec,\n",
    "    equiv,\n",
    "    pauli_bit_equivalence_check,\n",
    ")\n",
    "from mcr.gate_apply import (\n",
    "    PauliBit,\n",
    "    grouping,\n",
    "    loop_optimization,\n",
    "    set_clifford_to_qulacs,\n",
    "    zhang_optimization,\n",
    "    multiply_all,\n",
    ")\n",
    "import pickle\n",
    "\n",
    "from mcr.mcr_optimize import find_nontrivial_swap, find_mcr\n",
    "from opt_using_mcr import test_algorithm, mcr_swap, three_layer_nontrivial_swap"
   ]
  },
  {
   "cell_type": "code",
   "execution_count": 2,
   "id": "509990cb",
   "metadata": {},
   "outputs": [],
   "source": [
    "nqubits = 3\n",
    "with open(f\"unopt_{nqubits}.pickle\", \"rb\") as f:\n",
    "    seq = pickle.load(f)\n",
    "data = []\n",
    "for elem in seq:\n",
    "    sgn = str(elem[1])[0]\n",
    "    pauli_str = str(elem[1])[1:]\n",
    "    if sgn == \"+\":\n",
    "        data.append(PauliBit(pauli_str, np.pi / 4))\n",
    "    else:\n",
    "        assert sgn == \"-\", f\"Unexpected sign: {sgn}\"\n",
    "        data.append(PauliBit(pauli_str, -np.pi / 4))\n",
    "data.append(PauliBit(\"Z\" * nqubits, -np.pi / 4))  # Add identity gate"
   ]
  },
  {
   "cell_type": "code",
   "execution_count": 3,
   "id": "cc7ae822",
   "metadata": {},
   "outputs": [
    {
     "name": "stdout",
     "output_type": "stream",
     "text": [
      "🎉 Successful optimization using MCR! 24 -> 14\n",
      "🎉 Successful optimization using MCR! 14 -> 0\n"
     ]
    }
   ],
   "source": [
    "seq_a = [PauliBit(ele.get_pauli_str(), ele.get_angle()) for ele in data]\n",
    "clifford_lst, optimized_data = test_algorithm(seq_a)"
   ]
  },
  {
   "cell_type": "code",
   "execution_count": 5,
   "id": "93451db6",
   "metadata": {},
   "outputs": [
    {
     "data": {
      "text/plain": [
       "True"
      ]
     },
     "execution_count": 5,
     "metadata": {},
     "output_type": "execute_result"
    }
   ],
   "source": [
    "equiv([[],seq_a],[clifford_lst, optimized_data])"
   ]
  },
  {
   "cell_type": "code",
   "execution_count": 23,
   "id": "df360fb2",
   "metadata": {},
   "outputs": [
    {
     "data": {
      "text/plain": [
       "[PauliBit(-0.7853981633974483*XXY),\n",
       " PauliBit(0.7853981633974483*XZX),\n",
       " PauliBit(0.7853981633974483*YYX),\n",
       " PauliBit(-0.7853981633974483*IIZ),\n",
       " PauliBit(0.7853981633974483*ZXZ),\n",
       " PauliBit(-0.7853981633974483*XZY),\n",
       " PauliBit(-0.7853981633974483*YYY),\n",
       " PauliBit(0.7853981633974483*XZX),\n",
       " PauliBit(0.7853981633974483*YYX),\n",
       " PauliBit(-0.7853981633974483*ZZZ)]"
      ]
     },
     "execution_count": 23,
     "metadata": {},
     "output_type": "execute_result"
    }
   ],
   "source": [
    "optimized_data"
   ]
  },
  {
   "cell_type": "code",
   "execution_count": 6,
   "id": "43ebc3d3",
   "metadata": {},
   "outputs": [
    {
     "data": {
      "text/plain": [
       "array([[1.+0.j, 0.+0.j, 0.+0.j, 0.+0.j, 0.+0.j, 0.+0.j, 0.+0.j, 0.+0.j],\n",
       "       [0.+0.j, 1.+0.j, 0.+0.j, 0.+0.j, 0.+0.j, 0.+0.j, 0.+0.j, 0.+0.j],\n",
       "       [0.+0.j, 0.+0.j, 1.+0.j, 0.+0.j, 0.+0.j, 0.+0.j, 0.+0.j, 0.+0.j],\n",
       "       [0.+0.j, 0.+0.j, 0.+0.j, 1.+0.j, 0.+0.j, 0.+0.j, 0.+0.j, 0.+0.j],\n",
       "       [0.+0.j, 0.+0.j, 0.+0.j, 0.+0.j, 1.+0.j, 0.+0.j, 0.+0.j, 0.+0.j],\n",
       "       [0.+0.j, 0.+0.j, 0.+0.j, 0.+0.j, 0.+0.j, 1.+0.j, 0.+0.j, 0.+0.j],\n",
       "       [0.+0.j, 0.+0.j, 0.+0.j, 0.+0.j, 0.+0.j, 0.+0.j, 1.+0.j, 0.+0.j],\n",
       "       [0.+0.j, 0.+0.j, 0.+0.j, 0.+0.j, 0.+0.j, 0.+0.j, 0.+0.j, 1.+0.j]])"
      ]
     },
     "execution_count": 6,
     "metadata": {},
     "output_type": "execute_result"
    }
   ],
   "source": [
    "from mcr.gate_apply import set_clifford_to_qulacs\n",
    "from qulacs.circuit import QuantumCircuitOptimizer as QCO\n",
    "from qulacs import QuantumCircuit\n",
    "circ = QuantumCircuit(nqubits)\n",
    "circ = set_clifford_to_qulacs(circ, clifford_lst)\n",
    "# for elem in data:\n",
    "    # circ.merge_circuit(elem.convert_into_qulacs())\n",
    "QCO().optimize(circ,nqubits)\n",
    "circ.get_gate(0).get_matrix()"
   ]
  },
  {
   "cell_type": "code",
   "execution_count": null,
   "id": "c10b782a",
   "metadata": {},
   "outputs": [],
   "source": []
  }
 ],
 "metadata": {
  "kernelspec": {
   "display_name": ".venv",
   "language": "python",
   "name": "python3"
  },
  "language_info": {
   "codemirror_mode": {
    "name": "ipython",
    "version": 3
   },
   "file_extension": ".py",
   "mimetype": "text/x-python",
   "name": "python",
   "nbconvert_exporter": "python",
   "pygments_lexer": "ipython3",
   "version": "3.11.12"
  }
 },
 "nbformat": 4,
 "nbformat_minor": 5
}
