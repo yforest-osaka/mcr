{
 "cells": [
  {
   "cell_type": "code",
   "execution_count": 21,
   "id": "c65aca26",
   "metadata": {},
   "outputs": [],
   "source": [
    "\n",
    "import numpy as np\n",
    "from qulacs import QuantumCircuit\n",
    "from itertools import combinations\n",
    "from mcr.equiv_check import (\n",
    "    equivalence_check_via_mqt_qcec,\n",
    "    equiv,\n",
    "    pauli_bit_equivalence_check,\n",
    ")\n",
    "from mcr.gate_apply import (\n",
    "    PauliBit,\n",
    "    grouping,\n",
    "    loop_optimization,\n",
    "    set_clifford_to_qulacs,\n",
    "    zhang_optimization,\n",
    "    multiply_all,\n",
    ")\n",
    "import pickle\n",
    "\n",
    "from mcr.mcr_optimize import find_nontrivial_swap, find_mcr\n",
    "from opt_using_mcr import test_algorithm, mcr_swap, three_layer_nontrivial_swap"
   ]
  },
  {
   "cell_type": "code",
   "execution_count": 22,
   "id": "509990cb",
   "metadata": {},
   "outputs": [],
   "source": [
    "nqubits = 2\n",
    "with open(f\"unopt_{nqubits}.pickle\", \"rb\") as f:\n",
    "    seq = pickle.load(f)\n",
    "data = []\n",
    "for elem in seq:\n",
    "    sgn = str(elem[1])[0]\n",
    "    pauli_str = str(elem[1])[1:]\n",
    "    if sgn == \"+\":\n",
    "        data.append(PauliBit(pauli_str, np.pi / 4))\n",
    "    else:\n",
    "        assert sgn == \"-\", f\"Unexpected sign: {sgn}\"\n",
    "        data.append(PauliBit(pauli_str, -np.pi / 4))\n",
    "data.append(PauliBit(\"Z\" * nqubits, -np.pi / 4))  # Add identity gate"
   ]
  },
  {
   "cell_type": "code",
   "execution_count": 23,
   "id": "cc7ae822",
   "metadata": {},
   "outputs": [
    {
     "name": "stdout",
     "output_type": "stream",
     "text": [
      "🎉 Successful optimization using MCR! 48 -> 26\n",
      "🎉 Successful optimization using MCR! 26 -> 12\n",
      "🔍 No optimization found in 3th iteration. Try 100 times left... 12 -> 12\n",
      "🔍 No optimization found in 3th iteration. Try 99 times left... 12 -> 12\n",
      "🔍 No optimization found in 3th iteration. Try 98 times left... 12 -> 12\n",
      "🔍 No optimization found in 3th iteration. Try 97 times left... 12 -> 12\n",
      "🔍 No optimization found in 3th iteration. Try 96 times left... 12 -> 12\n",
      "🔍 No optimization found in 3th iteration. Try 95 times left... 12 -> 12\n",
      "🔍 No optimization found in 3th iteration. Try 94 times left... 12 -> 12\n",
      "🔍 No optimization found in 3th iteration. Try 93 times left... 12 -> 12\n",
      "🔍 No optimization found in 3th iteration. Try 92 times left... 12 -> 12\n",
      "🔍 No optimization found in 3th iteration. Try 91 times left... 12 -> 12\n",
      "🔍 No optimization found in 3th iteration. Try 90 times left... 12 -> 12\n",
      "🔍 No optimization found in 3th iteration. Try 89 times left... 12 -> 12\n",
      "🔍 No optimization found in 3th iteration. Try 88 times left... 12 -> 12\n",
      "🔍 No optimization found in 3th iteration. Try 87 times left... 12 -> 12\n",
      "🔍 No optimization found in 3th iteration. Try 86 times left... 12 -> 12\n",
      "🔍 No optimization found in 3th iteration. Try 85 times left... 12 -> 12\n",
      "🔍 No optimization found in 3th iteration. Try 84 times left... 12 -> 12\n",
      "🔍 No optimization found in 3th iteration. Try 83 times left... 12 -> 12\n",
      "🔍 No optimization found in 3th iteration. Try 82 times left... 12 -> 12\n",
      "🔍 No optimization found in 3th iteration. Try 81 times left... 12 -> 12\n",
      "🔍 No optimization found in 3th iteration. Try 80 times left... 12 -> 12\n",
      "🔍 No optimization found in 3th iteration. Try 79 times left... 12 -> 12\n",
      "🔍 No optimization found in 3th iteration. Try 78 times left... 12 -> 12\n",
      "🔍 No optimization found in 3th iteration. Try 77 times left... 12 -> 12\n",
      "🔍 No optimization found in 3th iteration. Try 76 times left... 12 -> 12\n",
      "🔍 No optimization found in 3th iteration. Try 75 times left... 12 -> 12\n",
      "🔍 No optimization found in 3th iteration. Try 74 times left... 12 -> 12\n",
      "🔍 No optimization found in 3th iteration. Try 73 times left... 12 -> 12\n",
      "🔍 No optimization found in 3th iteration. Try 72 times left... 12 -> 12\n",
      "🔍 No optimization found in 3th iteration. Try 71 times left... 12 -> 12\n",
      "🔍 No optimization found in 3th iteration. Try 70 times left... 12 -> 12\n",
      "🔍 No optimization found in 3th iteration. Try 69 times left... 12 -> 12\n",
      "🔍 No optimization found in 3th iteration. Try 68 times left... 12 -> 12\n",
      "🔍 No optimization found in 3th iteration. Try 67 times left... 12 -> 12\n",
      "🔍 No optimization found in 3th iteration. Try 66 times left... 12 -> 12\n",
      "🔍 No optimization found in 3th iteration. Try 65 times left... 12 -> 12\n",
      "🔍 No optimization found in 3th iteration. Try 64 times left... 12 -> 12\n",
      "🔍 No optimization found in 3th iteration. Try 63 times left... 12 -> 12\n",
      "🔍 No optimization found in 3th iteration. Try 62 times left... 12 -> 12\n",
      "🔍 No optimization found in 3th iteration. Try 61 times left... 12 -> 12\n",
      "🔍 No optimization found in 3th iteration. Try 60 times left... 12 -> 12\n",
      "🔍 No optimization found in 3th iteration. Try 59 times left... 12 -> 12\n",
      "🔍 No optimization found in 3th iteration. Try 58 times left... 12 -> 12\n",
      "🔍 No optimization found in 3th iteration. Try 57 times left... 12 -> 12\n",
      "🔍 No optimization found in 3th iteration. Try 56 times left... 12 -> 12\n",
      "🔍 No optimization found in 3th iteration. Try 55 times left... 12 -> 12\n",
      "🔍 No optimization found in 3th iteration. Try 54 times left... 12 -> 12\n",
      "🔍 No optimization found in 3th iteration. Try 53 times left... 12 -> 12\n",
      "🔍 No optimization found in 3th iteration. Try 52 times left... 12 -> 12\n",
      "🔍 No optimization found in 3th iteration. Try 51 times left... 12 -> 12\n",
      "🔍 No optimization found in 3th iteration. Try 50 times left... 12 -> 12\n",
      "🔍 No optimization found in 3th iteration. Try 49 times left... 12 -> 12\n",
      "🔍 No optimization found in 3th iteration. Try 48 times left... 12 -> 12\n",
      "🔍 No optimization found in 3th iteration. Try 47 times left... 12 -> 12\n",
      "🔍 No optimization found in 3th iteration. Try 46 times left... 12 -> 12\n",
      "🔍 No optimization found in 3th iteration. Try 45 times left... 12 -> 12\n",
      "🔍 No optimization found in 3th iteration. Try 44 times left... 12 -> 12\n",
      "🔍 No optimization found in 3th iteration. Try 43 times left... 12 -> 12\n",
      "🔍 No optimization found in 3th iteration. Try 42 times left... 12 -> 12\n",
      "🔍 No optimization found in 3th iteration. Try 41 times left... 12 -> 12\n",
      "🔍 No optimization found in 3th iteration. Try 40 times left... 12 -> 12\n",
      "🔍 No optimization found in 3th iteration. Try 39 times left... 12 -> 12\n",
      "🔍 No optimization found in 3th iteration. Try 38 times left... 12 -> 12\n",
      "🔍 No optimization found in 3th iteration. Try 37 times left... 12 -> 12\n",
      "🔍 No optimization found in 3th iteration. Try 36 times left... 12 -> 12\n",
      "🔍 No optimization found in 3th iteration. Try 35 times left... 12 -> 12\n",
      "🔍 No optimization found in 3th iteration. Try 34 times left... 12 -> 12\n",
      "🔍 No optimization found in 3th iteration. Try 33 times left... 12 -> 12\n",
      "🔍 No optimization found in 3th iteration. Try 32 times left... 12 -> 12\n",
      "🔍 No optimization found in 3th iteration. Try 31 times left... 12 -> 12\n",
      "🔍 No optimization found in 3th iteration. Try 30 times left... 12 -> 12\n",
      "🔍 No optimization found in 3th iteration. Try 29 times left... 12 -> 12\n",
      "🔍 No optimization found in 3th iteration. Try 28 times left... 12 -> 12\n",
      "🔍 No optimization found in 3th iteration. Try 27 times left... 12 -> 12\n",
      "🔍 No optimization found in 3th iteration. Try 26 times left... 12 -> 12\n",
      "🔍 No optimization found in 3th iteration. Try 25 times left... 12 -> 12\n",
      "🔍 No optimization found in 3th iteration. Try 24 times left... 12 -> 12\n",
      "🔍 No optimization found in 3th iteration. Try 23 times left... 12 -> 12\n",
      "🔍 No optimization found in 3th iteration. Try 22 times left... 12 -> 12\n",
      "🔍 No optimization found in 3th iteration. Try 21 times left... 12 -> 12\n",
      "🔍 No optimization found in 3th iteration. Try 20 times left... 12 -> 12\n",
      "🔍 No optimization found in 3th iteration. Try 19 times left... 12 -> 12\n",
      "🔍 No optimization found in 3th iteration. Try 18 times left... 12 -> 12\n",
      "🔍 No optimization found in 3th iteration. Try 17 times left... 12 -> 12\n",
      "🔍 No optimization found in 3th iteration. Try 16 times left... 12 -> 12\n",
      "🔍 No optimization found in 3th iteration. Try 15 times left... 12 -> 12\n",
      "🔍 No optimization found in 3th iteration. Try 14 times left... 12 -> 12\n",
      "🔍 No optimization found in 3th iteration. Try 13 times left... 12 -> 12\n",
      "🔍 No optimization found in 3th iteration. Try 12 times left... 12 -> 12\n",
      "🔍 No optimization found in 3th iteration. Try 11 times left... 12 -> 12\n",
      "🔍 No optimization found in 3th iteration. Try 10 times left... 12 -> 12\n",
      "🔍 No optimization found in 3th iteration. Try 9 times left... 12 -> 12\n",
      "🔍 No optimization found in 3th iteration. Try 8 times left... 12 -> 12\n",
      "🔍 No optimization found in 3th iteration. Try 7 times left... 12 -> 12\n",
      "🔍 No optimization found in 3th iteration. Try 6 times left... 12 -> 12\n",
      "🔍 No optimization found in 3th iteration. Try 5 times left... 12 -> 12\n",
      "🔍 No optimization found in 3th iteration. Try 4 times left... 12 -> 12\n",
      "🔍 No optimization found in 3th iteration. Try 3 times left... 12 -> 12\n",
      "🔍 No optimization found in 3th iteration. Try 2 times left... 12 -> 12\n",
      "🔍 No optimization found in 3th iteration. Try 1 times left... 12 -> 12\n"
     ]
    }
   ],
   "source": [
    "seq_a = [PauliBit(ele.get_pauli_str(), ele.get_angle()) for ele in data]\n",
    "clifford_lst, optimized_data = test_algorithm(seq_a, show_opt_log=True)"
   ]
  },
  {
   "cell_type": "markdown",
   "id": "d5b65c06",
   "metadata": {},
   "source": [
    "何回かループさせないと消せないサンプルが存在する(concatenationと関係？)"
   ]
  },
  {
   "cell_type": "code",
   "execution_count": 24,
   "id": "fadde8ea",
   "metadata": {},
   "outputs": [],
   "source": [
    "tmp = grouping(optimized_data)"
   ]
  },
  {
   "cell_type": "code",
   "execution_count": 25,
   "id": "bd4dbd8d",
   "metadata": {},
   "outputs": [
    {
     "data": {
      "text/plain": [
       "[[PauliBit(-0.7853981633974483*XY)],\n",
       " [PauliBit(-0.7853981633974483*IX), PauliBit(-0.7853981633974483*ZI)],\n",
       " [PauliBit(0.7853981633974483*XY)],\n",
       " [PauliBit(-0.7853981633974483*ZY)],\n",
       " [PauliBit(-0.7853981633974483*YY), PauliBit(-0.7853981633974483*ZZ)],\n",
       " [PauliBit(0.7853981633974483*IX), PauliBit(0.7853981633974483*XI)],\n",
       " [PauliBit(-0.7853981633974483*YZ)],\n",
       " [PauliBit(-0.7853981633974483*XZ)],\n",
       " [PauliBit(-0.7853981633974483*ZZ)]]"
      ]
     },
     "execution_count": 25,
     "metadata": {},
     "output_type": "execute_result"
    }
   ],
   "source": [
    "tmp"
   ]
  },
  {
   "cell_type": "code",
   "execution_count": 26,
   "id": "9966bef9",
   "metadata": {},
   "outputs": [
    {
     "data": {
      "text/plain": [
       "[PauliBit(-0.7853981633974483*XY),\n",
       " PauliBit(-0.7853981633974483*IX),\n",
       " PauliBit(-0.7853981633974483*ZI),\n",
       " PauliBit(0.7853981633974483*XY),\n",
       " PauliBit(-0.7853981633974483*ZY),\n",
       " PauliBit(-0.7853981633974483*YY),\n",
       " PauliBit(-0.7853981633974483*ZZ),\n",
       " PauliBit(0.7853981633974483*IX),\n",
       " PauliBit(0.7853981633974483*XI),\n",
       " PauliBit(-0.7853981633974483*YZ),\n",
       " PauliBit(-0.7853981633974483*XZ),\n",
       " PauliBit(-0.7853981633974483*ZZ)]"
      ]
     },
     "execution_count": 26,
     "metadata": {},
     "output_type": "execute_result"
    }
   ],
   "source": [
    "optimized_data"
   ]
  },
  {
   "cell_type": "code",
   "execution_count": 7,
   "id": "276bf424",
   "metadata": {},
   "outputs": [
    {
     "name": "stderr",
     "output_type": "stream",
     "text": [
      "Permuting: 312it [00:13, 23.02it/s]\n"
     ]
    },
    {
     "ename": "KeyboardInterrupt",
     "evalue": "",
     "output_type": "error",
     "traceback": [
      "\u001b[31m---------------------------------------------------------------------------\u001b[39m",
      "\u001b[31mKeyboardInterrupt\u001b[39m                         Traceback (most recent call last)",
      "\u001b[36mCell\u001b[39m\u001b[36m \u001b[39m\u001b[32mIn[7]\u001b[39m\u001b[32m, line 11\u001b[39m\n\u001b[32m      9\u001b[39m target = \u001b[38;5;28msum\u001b[39m(perm,[])\n\u001b[32m     10\u001b[39m cli, tmp2 = test_algorithm(target, show_opt_log=\u001b[38;5;28;01mFalse\u001b[39;00m)\n\u001b[32m---> \u001b[39m\u001b[32m11\u001b[39m \u001b[38;5;28;01mif\u001b[39;00m \u001b[43mequiv\u001b[49m\u001b[43m(\u001b[49m\u001b[43m[\u001b[49m\u001b[43m[\u001b[49m\u001b[43m]\u001b[49m\u001b[43m,\u001b[49m\u001b[43m \u001b[49m\u001b[38;5;28;43msum\u001b[39;49m\u001b[43m(\u001b[49m\u001b[43mdata_all\u001b[49m\u001b[43m,\u001b[49m\u001b[43m \u001b[49m\u001b[43m[\u001b[49m\u001b[43m]\u001b[49m\u001b[43m)\u001b[49m\u001b[43m]\u001b[49m\u001b[43m,\u001b[49m\u001b[43m \u001b[49m\u001b[43m[\u001b[49m\u001b[43mcli\u001b[49m\u001b[43m,\u001b[49m\u001b[43m \u001b[49m\u001b[43mtmp2\u001b[49m\u001b[43m]\u001b[49m\u001b[43m)\u001b[49m \u001b[38;5;129;01mand\u001b[39;00m \u001b[38;5;28mlen\u001b[39m(tmp2) < \u001b[38;5;28mlen\u001b[39m(target):\n\u001b[32m     12\u001b[39m     \u001b[38;5;28mprint\u001b[39m(\u001b[33m\"\u001b[39m\u001b[33mNew length:\u001b[39m\u001b[33m\"\u001b[39m, \u001b[38;5;28mlen\u001b[39m(tmp2))\n\u001b[32m     13\u001b[39m     results.append(perm)\n",
      "\u001b[36mFile \u001b[39m\u001b[32m~/Desktop/workspace/d1_work/mcr/mcr/equiv_check.py:119\u001b[39m, in \u001b[36mequiv\u001b[39m\u001b[34m(seq_1, seq_2)\u001b[39m\n\u001b[32m    117\u001b[39m \u001b[38;5;28;01mfor\u001b[39;00m elem \u001b[38;5;129;01min\u001b[39;00m non_clifford_pauli_bits_2:\n\u001b[32m    118\u001b[39m     circuit_2.merge_circuit(elem.convert_into_qulacs())\n\u001b[32m--> \u001b[39m\u001b[32m119\u001b[39m \u001b[38;5;28;01mreturn\u001b[39;00m \u001b[43mequivalence_check_via_mqt_qcec\u001b[49m\u001b[43m(\u001b[49m\n\u001b[32m    120\u001b[39m \u001b[43m    \u001b[49m\u001b[43mcircuit_1\u001b[49m\u001b[43m,\u001b[49m\u001b[43m \u001b[49m\u001b[43mcircuit_2\u001b[49m\u001b[43m,\u001b[49m\u001b[43m \u001b[49m\u001b[43mexclude_zx_checker\u001b[49m\u001b[43m=\u001b[49m\u001b[38;5;28;43;01mTrue\u001b[39;49;00m\u001b[43m,\u001b[49m\u001b[43m \u001b[49m\u001b[43mshow_log\u001b[49m\u001b[43m=\u001b[49m\u001b[38;5;28;43;01mFalse\u001b[39;49;00m\n\u001b[32m    121\u001b[39m \u001b[43m\u001b[49m\u001b[43m)\u001b[49m\n",
      "\u001b[36mFile \u001b[39m\u001b[32m~/Desktop/workspace/d1_work/mcr/mcr/equiv_check.py:70\u001b[39m, in \u001b[36mequivalence_check_via_mqt_qcec\u001b[39m\u001b[34m(circuit_1, circuit_2, exclude_zx_checker, show_log)\u001b[39m\n\u001b[32m     68\u001b[39m     result = qcec.verify(circuit_1, circuit_2).equivalence\n\u001b[32m     69\u001b[39m \u001b[38;5;28;01mif\u001b[39;00m remove_flag1:\n\u001b[32m---> \u001b[39m\u001b[32m70\u001b[39m     os.remove(circuit_1)\n\u001b[32m     71\u001b[39m \u001b[38;5;28;01mif\u001b[39;00m remove_flag2:\n\u001b[32m     72\u001b[39m     os.remove(circuit_2)\n",
      "\u001b[31mKeyboardInterrupt\u001b[39m: "
     ]
    }
   ],
   "source": [
    "from itertools import permutations\n",
    "from tqdm import tqdm\n",
    "i = 0\n",
    "count = 0\n",
    "results = []\n",
    "data_all = tmp[1:]\n",
    "for i, perm in tqdm(enumerate(permutations(data_all)), desc=\"Permuting\"):\n",
    "    # if i == 10325:\n",
    "    target = sum(perm,[])\n",
    "    cli, tmp2 = test_algorithm(target, show_opt_log=False)\n",
    "    if equiv([[], sum(data_all, [])], [cli, tmp2]) and len(tmp2) < len(target):\n",
    "        print(\"New length:\", len(tmp2))\n",
    "        results.append(perm)\n",
    "        count += 1\n",
    "    if count > 10:\n",
    "        break\n",
    "        # if len(tmp2) < len(tmp):\n",
    "        #     tmp = tmp2"
   ]
  },
  {
   "cell_type": "code",
   "execution_count": null,
   "id": "f6c0edaa",
   "metadata": {},
   "outputs": [
    {
     "data": {
      "text/plain": [
       "[[PauliBit(-0.7853981633974483*IX), PauliBit(-0.7853981633974483*ZI)],\n",
       " [PauliBit(0.7853981633974483*XY)],\n",
       " [PauliBit(-0.7853981633974483*ZY)],\n",
       " [PauliBit(-0.7853981633974483*YY), PauliBit(-0.7853981633974483*ZZ)],\n",
       " [PauliBit(0.7853981633974483*IX), PauliBit(0.7853981633974483*XI)],\n",
       " [PauliBit(-0.7853981633974483*YZ)],\n",
       " [PauliBit(-0.7853981633974483*XZ)],\n",
       " [PauliBit(-0.7853981633974483*ZZ)]]"
      ]
     },
     "execution_count": 8,
     "metadata": {},
     "output_type": "execute_result"
    }
   ],
   "source": [
    "tmp[1:]\n"
   ]
  },
  {
   "cell_type": "code",
   "execution_count": null,
   "id": "16a1b93e",
   "metadata": {},
   "outputs": [
    {
     "data": {
      "text/plain": [
       "([PauliBit(-0.7853981633974483*ZY)],\n",
       " [PauliBit(-0.7853981633974483*IX), PauliBit(-0.7853981633974483*ZI)],\n",
       " [PauliBit(0.7853981633974483*IX), PauliBit(0.7853981633974483*XI)],\n",
       " [PauliBit(0.7853981633974483*XY)],\n",
       " [PauliBit(-0.7853981633974483*YY), PauliBit(-0.7853981633974483*ZZ)],\n",
       " [PauliBit(-0.7853981633974483*ZZ)],\n",
       " [PauliBit(-0.7853981633974483*XZ)],\n",
       " [PauliBit(-0.7853981633974483*YZ)])"
      ]
     },
     "execution_count": 52,
     "metadata": {},
     "output_type": "execute_result"
    }
   ],
   "source": [
    "results[0]"
   ]
  },
  {
   "cell_type": "code",
   "execution_count": null,
   "id": "fd266fc0",
   "metadata": {},
   "outputs": [
    {
     "data": {
      "text/plain": [
       "[PauliBit(-0.7853981633974483*XY)]"
      ]
     },
     "execution_count": 30,
     "metadata": {},
     "output_type": "execute_result"
    }
   ],
   "source": [
    "tmp[0]"
   ]
  },
  {
   "cell_type": "code",
   "execution_count": null,
   "id": "1c36ef05",
   "metadata": {},
   "outputs": [
    {
     "data": {
      "text/plain": [
       "[[PauliBit(-0.7853981633974483*XY)],\n",
       " [PauliBit(-0.7853981633974483*IX), PauliBit(-0.7853981633974483*ZI)],\n",
       " [PauliBit(0.7853981633974483*XY)],\n",
       " [PauliBit(-0.7853981633974483*ZY)],\n",
       " [PauliBit(-0.7853981633974483*YY), PauliBit(-0.7853981633974483*ZZ)],\n",
       " [PauliBit(0.7853981633974483*IX), PauliBit(0.7853981633974483*XI)],\n",
       " [PauliBit(-0.7853981633974483*YZ)],\n",
       " [PauliBit(-0.7853981633974483*XZ)],\n",
       " [PauliBit(-0.7853981633974483*ZZ)]]"
      ]
     },
     "execution_count": 24,
     "metadata": {},
     "output_type": "execute_result"
    }
   ],
   "source": [
    "grouping(optimized_data)"
   ]
  },
  {
   "cell_type": "code",
   "execution_count": null,
   "id": "cdbef74d",
   "metadata": {},
   "outputs": [],
   "source": []
  },
  {
   "cell_type": "code",
   "execution_count": null,
   "id": "93451db6",
   "metadata": {},
   "outputs": [
    {
     "data": {
      "text/plain": [
       "True"
      ]
     },
     "execution_count": 8,
     "metadata": {},
     "output_type": "execute_result"
    }
   ],
   "source": [
    "equiv([[],seq_a],[clifford_lst, optimized_data])"
   ]
  },
  {
   "cell_type": "code",
   "execution_count": null,
   "id": "59f7e99a",
   "metadata": {},
   "outputs": [
    {
     "data": {
      "text/plain": [
       "True"
      ]
     },
     "execution_count": 3,
     "metadata": {},
     "output_type": "execute_result"
    }
   ],
   "source": [
    "paulis = [\"ix\",\"zi\",\"xy\",\"zy\",\"yy\",\"zz\",\"ix\",\"xi\",\"yz\",\"xz\",\"zz\"]\n",
    "phases = [-1,-1,1,-1,-1,-1,1,1,-1,-1,-1]\n",
    "\n",
    "paulis_b = [\"ix\", \"zi\", \"xy\", \"zy\", \"ix\", \"xi\", \"yy\", \"zz\", \"yz\", \"xz\", \"zz\"]\n",
    "phases_b = [-1, -1, 1, -1, 1, 1, -1, -1, -1, -1, -1]\n",
    "# paulis_b = [\"zy\", \"ix\", \"zi\", \"ix\", \"xi\", \"xy\", \"yy\", \"zz\", \"zz\", \"xz\", \"yz\"]\n",
    "# phases_b = [-1, -1, -1, 1, 1, 1, -1, -1, -1, -1, -1]\n",
    "x = [PauliBit(p, np.pi / 4 * phase) for p, phase in zip(paulis, phases)]\n",
    "\n",
    "y = [PauliBit(p, np.pi / 4 * phase) for p, phase in zip(paulis_b, phases_b)]\n",
    "equiv([[], x], [[], y])"
   ]
  },
  {
   "cell_type": "code",
   "execution_count": null,
   "id": "05ba3adb",
   "metadata": {},
   "outputs": [
    {
     "data": {
      "text/plain": [
       "[[PauliBit(-0.7853981633974483*IX), PauliBit(-0.7853981633974483*ZI)],\n",
       " [PauliBit(0.7853981633974483*XY)],\n",
       " [PauliBit(-0.7853981633974483*ZY)],\n",
       " [PauliBit(-0.7853981633974483*YY), PauliBit(-0.7853981633974483*ZZ)],\n",
       " [PauliBit(0.7853981633974483*IX), PauliBit(0.7853981633974483*XI)],\n",
       " [PauliBit(-0.7853981633974483*YZ)],\n",
       " [PauliBit(-0.7853981633974483*XZ)],\n",
       " [PauliBit(-0.7853981633974483*ZZ)]]"
      ]
     },
     "execution_count": 59,
     "metadata": {},
     "output_type": "execute_result"
    }
   ],
   "source": [
    "cutting_vals = [2,3,4,6,8,9,10]\n",
    "cands = [\n",
    "    x[: cutting_vals[0]],\n",
    "    x[cutting_vals[0] : cutting_vals[1]],\n",
    "    x[cutting_vals[1] : cutting_vals[2]],\n",
    "    x[cutting_vals[2] : cutting_vals[3]],\n",
    "    x[cutting_vals[3] : cutting_vals[4]],\n",
    "    x[cutting_vals[4] : cutting_vals[5]],\n",
    "    x[cutting_vals[5] : cutting_vals[6]],\n",
    "    x[cutting_vals[6] :],\n",
    "]\n",
    "cands"
   ]
  },
  {
   "cell_type": "code",
   "execution_count": null,
   "id": "7ecbf719",
   "metadata": {},
   "outputs": [
    {
     "name": "stderr",
     "output_type": "stream",
     "text": [
      "Permuting: 6it [00:00, 295.26it/s]"
     ]
    },
    {
     "name": "stdout",
     "output_type": "stream",
     "text": [
      "found!: 0\n",
      "Total found: 1\n"
     ]
    },
    {
     "name": "stderr",
     "output_type": "stream",
     "text": [
      "\n"
     ]
    }
   ],
   "source": [
    "from itertools import permutations\n",
    "from tqdm import tqdm\n",
    "\n",
    "i = 0\n",
    "count = 0\n",
    "results = []\n",
    "parts = cands[5:8]\n",
    "\n",
    "for i, perm in tqdm(enumerate(permutations(parts)), desc=\"Permuting\"):\n",
    "    target = sum(perm, [])\n",
    "    if equiv([[], target], [[], sum(parts, [])]):\n",
    "        print(f\"found!: {i}\")\n",
    "        results.append(perm)\n",
    "        count += 1\n",
    "print(f\"Total found: {count}\")"
   ]
  },
  {
   "cell_type": "code",
   "execution_count": null,
   "id": "770de182",
   "metadata": {},
   "outputs": [
    {
     "data": {
      "text/plain": [
       "[([PauliBit(-0.7853981633974483*YZ)],\n",
       "  [PauliBit(-0.7853981633974483*XZ)],\n",
       "  [PauliBit(-0.7853981633974483*ZZ)])]"
      ]
     },
     "execution_count": 78,
     "metadata": {},
     "output_type": "execute_result"
    }
   ],
   "source": [
    "results"
   ]
  },
  {
   "cell_type": "code",
   "execution_count": null,
   "id": "e5f9c500",
   "metadata": {},
   "outputs": [],
   "source": []
  },
  {
   "cell_type": "code",
   "execution_count": null,
   "id": "880b9bdd",
   "metadata": {},
   "outputs": [
    {
     "data": {
      "text/plain": [
       "False"
      ]
     },
     "execution_count": 84,
     "metadata": {},
     "output_type": "execute_result"
    }
   ],
   "source": [
    "a = [PauliBit(\"xy\", np.pi / 4), PauliBit(\"zy\", -np.pi / 4), PauliBit(\"yy\", -np.pi / 4)]\n",
    "b = [PauliBit(\"yy\", -np.pi / 4), PauliBit(\"xy\", np.pi / 4), PauliBit(\"yy\", -np.pi / 4)]\n",
    "equiv([[], a], [[], b])"
   ]
  },
  {
   "cell_type": "code",
   "execution_count": null,
   "id": "1fab78f5",
   "metadata": {},
   "outputs": [],
   "source": []
  },
  {
   "cell_type": "code",
   "execution_count": null,
   "id": "98140bca",
   "metadata": {},
   "outputs": [],
   "source": []
  },
  {
   "cell_type": "code",
   "execution_count": 8,
   "id": "43ebc3d3",
   "metadata": {},
   "outputs": [
    {
     "data": {
      "text/plain": [
       "array([[-0.5+0.5j,  0.5-0.5j,  0. +0.j ,  0. +0.j ],\n",
       "       [-0.5-0.5j, -0.5-0.5j,  0. +0.j ,  0. +0.j ],\n",
       "       [ 0. +0.j ,  0. +0.j , -0.5-0.5j, -0.5-0.5j],\n",
       "       [ 0. +0.j ,  0. +0.j ,  0.5-0.5j, -0.5+0.5j]])"
      ]
     },
     "execution_count": 8,
     "metadata": {},
     "output_type": "execute_result"
    }
   ],
   "source": [
    "from mcr.gate_apply import set_clifford_to_qulacs\n",
    "from qulacs.circuit import QuantumCircuitOptimizer as QCO\n",
    "from qulacs import QuantumCircuit\n",
    "circ = QuantumCircuit(nqubits)\n",
    "circ = set_clifford_to_qulacs(circ, clifford_lst)\n",
    "# for elem in data:\n",
    "    # circ.merge_circuit(elem.convert_into_qulacs())\n",
    "QCO().optimize(circ,nqubits)\n",
    "circ.get_gate(0).get_matrix()"
   ]
  },
  {
   "cell_type": "code",
   "execution_count": null,
   "id": "fe3f2ce3",
   "metadata": {},
   "outputs": [
    {
     "data": {
      "text/plain": [
       "False"
      ]
     },
     "execution_count": 37,
     "metadata": {},
     "output_type": "execute_result"
    }
   ],
   "source": [
    "c1 = [(\"CZ\", [0, 1]), (\"SWAP\", [0, 1]), (\"CNOT\", [1, 0]), (\"H\", [1]), (\"CNOT\", [1, 0])]\n",
    "c2 = [(\"CZ\", [0, 1]), (\"CNOT\", [1, 0]), (\"H\", [1]), (\"CNOT\", [1, 0])]\n",
    "c3 = [PauliBit(\"ZZ\", np.pi / 4), PauliBit(\"ZZ\", -np.pi / 4)]\n",
    "equiv([c1, c3], [c2, c3])  # Should be True"
   ]
  },
  {
   "cell_type": "code",
   "execution_count": null,
   "id": "b85bcc87",
   "metadata": {},
   "outputs": [],
   "source": []
  }
 ],
 "metadata": {
  "kernelspec": {
   "display_name": ".venv",
   "language": "python",
   "name": "python3"
  },
  "language_info": {
   "codemirror_mode": {
    "name": "ipython",
    "version": 3
   },
   "file_extension": ".py",
   "mimetype": "text/x-python",
   "name": "python",
   "nbconvert_exporter": "python",
   "pygments_lexer": "ipython3",
   "version": "3.11.12"
  }
 },
 "nbformat": 4,
 "nbformat_minor": 5
}
